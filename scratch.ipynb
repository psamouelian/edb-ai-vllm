{
 "cells": [
  {
   "cell_type": "code",
   "execution_count": null,
   "id": "852a268b-5abb-4cd5-8653-a69271837827",
   "metadata": {},
   "outputs": [],
   "source": [
    "import psycopg, os\n",
    "postgres_uri = os.environ.get('URI')\n",
    "conn = psycopg.connect(postgres_uri)\n",
    "sql = \"select translate(cast (aidb.encode_text_batch('bert', ARRAY['hello', 'goodbye']) as text), '\\\"', '')::float[]\"\n",
    "cur = conn.cursor()\n",
    "cur.execute(sql, prepare=True)\n",
    "results = cur.fetchall()"
   ]
  },
  {
   "cell_type": "code",
   "execution_count": null,
   "id": "47268be7-3900-42af-95d1-a2b1dd6a7337",
   "metadata": {},
   "outputs": [],
   "source": []
  },
  {
   "cell_type": "code",
   "execution_count": null,
   "id": "f8fcabe3-1885-4df9-a7c1-0725c354d2cc",
   "metadata": {},
   "outputs": [],
   "source": [
    "sql = \"\"\"\n",
    "    select film_id, title, description, 1 - (aidb.encode_text('grit-llm', description)::vector <=>\n",
    "\taidb.encode_text('grit-llm', 'A movie about cats in Australia')::vector) as cosine_similarity_score from film order by 4 desc limit 10\n",
    "    \"\"\""
   ]
  },
  {
   "cell_type": "code",
   "execution_count": null,
   "id": "3b53dc80-2ab5-48fb-85bc-9a91440951b8",
   "metadata": {},
   "outputs": [],
   "source": [
    "rows = execute_sql_results(sql)\n",
    "for row in rows:\n",
    "    print(row)"
   ]
  }
 ],
 "metadata": {
  "kernelspec": {
   "display_name": "Python 3.11",
   "language": "python",
   "name": "python3"
  },
  "language_info": {
   "codemirror_mode": {
    "name": "ipython",
    "version": 3
   },
   "file_extension": ".py",
   "mimetype": "text/x-python",
   "name": "python",
   "nbconvert_exporter": "python",
   "pygments_lexer": "ipython3",
   "version": "3.11.7"
  }
 },
 "nbformat": 4,
 "nbformat_minor": 5
}
