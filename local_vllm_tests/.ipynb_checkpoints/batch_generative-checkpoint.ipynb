{
 "cells": [
  {
   "cell_type": "code",
   "execution_count": 1,
   "id": "a5cffb88-53dc-4022-9137-b30765c511e2",
   "metadata": {},
   "outputs": [
    {
     "name": "stderr",
     "output_type": "stream",
     "text": [
      "/opt/app-root/lib64/python3.11/site-packages/tqdm/auto.py:21: TqdmWarning: IProgress not found. Please update jupyter and ipywidgets. See https://ipywidgets.readthedocs.io/en/stable/user_install.html\n",
      "  from .autonotebook import tqdm as notebook_tqdm\n",
      "2025-03-19 02:37:56,623\tINFO util.py:154 -- Missing packages: ['ipywidgets']. Run `pip install -U ipywidgets`, then restart the notebook server for rich notebook output.\n"
     ]
    }
   ],
   "source": [
    "import os, time\n",
    "from vllm import LLM, SamplingParams"
   ]
  },
  {
   "cell_type": "code",
   "execution_count": 2,
   "id": "31749332-691e-4d58-9fb1-65447928fc8d",
   "metadata": {},
   "outputs": [],
   "source": [
    "%run ../utilities/curl_utilities.ipynb\n",
    "%run ../utilities/postgres_utilities.ipynb"
   ]
  },
  {
   "cell_type": "code",
   "execution_count": 3,
   "id": "65c191b1-0bae-463b-b66e-389164f2631a",
   "metadata": {},
   "outputs": [],
   "source": [
    "model_name = \"GritLM/GritLM-7B\"\n",
    "number_data_rows = 100"
   ]
  },
  {
   "cell_type": "code",
   "execution_count": 4,
   "id": "a843f7e6-1be7-4a14-b9ef-dad4d9702a88",
   "metadata": {},
   "outputs": [],
   "source": [
    "connect_db()"
   ]
  },
  {
   "cell_type": "code",
   "execution_count": 5,
   "id": "f5678afb-24f0-4444-a022-57f0208b78c3",
   "metadata": {},
   "outputs": [],
   "source": [
    "batch_size = 100"
   ]
  },
  {
   "cell_type": "code",
   "execution_count": 6,
   "id": "8297fb66-4e3d-49b4-a82c-164c09d43505",
   "metadata": {},
   "outputs": [
    {
     "name": "stdout",
     "output_type": "stream",
     "text": [
      "INFO 03-19 02:37:57 __init__.py:207] Automatically detected platform cuda.\n",
      "INFO 03-19 02:38:03 config.py:549] This model supports multiple tasks: {'score', 'reward', 'embed', 'generate', 'classify'}. Defaulting to 'generate'.\n",
      "INFO 03-19 02:38:03 llm_engine.py:234] Initializing a V0 LLM engine (v0.7.3) with config: model='GritLM/GritLM-7B', speculative_config=None, tokenizer='GritLM/GritLM-7B', skip_tokenizer_init=False, tokenizer_mode=auto, revision=None, override_neuron_config=None, tokenizer_revision=None, trust_remote_code=False, dtype=torch.bfloat16, max_seq_len=4096, download_dir=None, load_format=LoadFormat.AUTO, tensor_parallel_size=1, pipeline_parallel_size=1, disable_custom_all_reduce=False, quantization=None, enforce_eager=False, kv_cache_dtype=auto,  device_config=cuda, decoding_config=DecodingConfig(guided_decoding_backend='xgrammar'), observability_config=ObservabilityConfig(otlp_traces_endpoint=None, collect_model_forward_time=False, collect_model_execute_time=False), seed=0, served_model_name=GritLM/GritLM-7B, num_scheduler_steps=1, multi_step_stream_outputs=True, enable_prefix_caching=False, chunked_prefill_enabled=False, use_async_output_proc=True, disable_mm_preprocessor_cache=False, mm_processor_kwargs=None, pooler_config=None, compilation_config={\"splitting_ops\":[],\"compile_sizes\":[],\"cudagraph_capture_sizes\":[256,248,240,232,224,216,208,200,192,184,176,168,160,152,144,136,128,120,112,104,96,88,80,72,64,56,48,40,32,24,16,8,4,2,1],\"max_capture_size\":256}, use_cached_outputs=False, \n",
      "INFO 03-19 02:38:04 cuda.py:229] Using Flash Attention backend.\n",
      "INFO 03-19 02:38:05 model_runner.py:1110] Starting to load model GritLM/GritLM-7B...\n",
      "INFO 03-19 02:38:05 weight_utils.py:254] Using model weights format ['*.safetensors']\n"
     ]
    },
    {
     "name": "stderr",
     "output_type": "stream",
     "text": [
      "Loading safetensors checkpoint shards:   0% Completed | 0/3 [00:00<?, ?it/s]\n",
      "Loading safetensors checkpoint shards:  33% Completed | 1/3 [00:00<00:01,  1.51it/s]\n",
      "Loading safetensors checkpoint shards:  67% Completed | 2/3 [00:01<00:00,  1.29it/s]\n",
      "Loading safetensors checkpoint shards: 100% Completed | 3/3 [00:02<00:00,  1.21it/s]\n",
      "Loading safetensors checkpoint shards: 100% Completed | 3/3 [00:02<00:00,  1.25it/s]\n",
      "\n"
     ]
    },
    {
     "name": "stdout",
     "output_type": "stream",
     "text": [
      "INFO 03-19 02:38:08 model_runner.py:1115] Loading model weights took 13.4967 GB\n",
      "INFO 03-19 02:38:09 worker.py:267] Memory profiling takes 1.31 seconds\n",
      "INFO 03-19 02:38:09 worker.py:267] the current vLLM instance can use total_gpu_memory (21.98GiB) x gpu_memory_utilization (0.90) = 19.78GiB\n",
      "INFO 03-19 02:38:09 worker.py:267] model weights take 13.50GiB; non_torch_memory takes 0.06GiB; PyTorch activation peak memory takes 0.43GiB; the rest of the memory reserved for KV Cache is 5.79GiB.\n",
      "INFO 03-19 02:38:10 executor_base.py:111] # cuda blocks: 2966, # CPU blocks: 2048\n",
      "INFO 03-19 02:38:10 executor_base.py:116] Maximum concurrency for 4096 tokens per request: 11.59x\n",
      "INFO 03-19 02:38:13 model_runner.py:1434] Capturing cudagraphs for decoding. This may lead to unexpected consequences if the model is not static. To run the model in eager mode, set 'enforce_eager=True' or use '--enforce-eager' in the CLI. If out-of-memory error occurs during cudagraph capture, consider decreasing `gpu_memory_utilization` or switching to eager mode. You can also reduce the `max_num_seqs` as needed to decrease memory usage.\n"
     ]
    },
    {
     "name": "stderr",
     "output_type": "stream",
     "text": [
      "Capturing CUDA graph shapes: 100%|██████████| 35/35 [00:17<00:00,  2.04it/s]"
     ]
    },
    {
     "name": "stdout",
     "output_type": "stream",
     "text": [
      "INFO 03-19 02:38:30 model_runner.py:1562] Graph capturing finished in 17 secs, took 0.26 GiB\n",
      "INFO 03-19 02:38:30 llm_engine.py:436] init engine (profile, create kv cache, warmup model) took 21.72 seconds\n"
     ]
    },
    {
     "name": "stderr",
     "output_type": "stream",
     "text": [
      "\n"
     ]
    }
   ],
   "source": [
    "sampling_params = SamplingParams(temperature=0.8, top_p=0.95, max_tokens=50)\n",
    "llm = LLM(model=model_name, max_model_len=4096)"
   ]
  },
  {
   "cell_type": "code",
   "execution_count": null,
   "id": "2879e991-774f-4e00-9b11-0a5f36d8536d",
   "metadata": {},
   "outputs": [],
   "source": []
  },
  {
   "cell_type": "code",
   "execution_count": 7,
   "id": "6039eddb-8331-46a5-bc28-90db1ab403ea",
   "metadata": {},
   "outputs": [],
   "source": [
    "sql = f\"select description from film limit {number_data_rows}\"\n",
    "film_descriptions = execute_sql_results(sql)"
   ]
  },
  {
   "cell_type": "code",
   "execution_count": null,
   "id": "7b24dc86-fc56-4d4e-b086-ddc670cf8a78",
   "metadata": {},
   "outputs": [],
   "source": []
  },
  {
   "cell_type": "code",
   "execution_count": 8,
   "id": "0dc0cce2-8c93-4b9b-a19f-4a8d6c4fb05f",
   "metadata": {},
   "outputs": [
    {
     "name": "stdout",
     "output_type": "stream",
     "text": [
      "Starting batch generative test using local vllm\n",
      "-----------------------------------------------\n",
      "Texts generated ... 0 100 "
     ]
    },
    {
     "name": "stderr",
     "output_type": "stream",
     "text": [
      "Processed prompts: 100%|██████████| 100/100 [00:03<00:00, 28.10it/s, est. speed input: 937.92 toks/s, output: 1403.22 toks/s]"
     ]
    },
    {
     "name": "stdout",
     "output_type": "stream",
     "text": [
      "\n",
      "Time to generate text for 100 rows: 3.5883 seconds\n",
      "-----------------------------------------------\n"
     ]
    },
    {
     "name": "stderr",
     "output_type": "stream",
     "text": [
      "\n"
     ]
    }
   ],
   "source": [
    "test_description = \"Starting batch generative test using local vllm\"\n",
    "print(test_description)\n",
    "print(len(test_description) * \"-\") \n",
    "tic = time.perf_counter()\n",
    "print(\"Texts generated ...\", end=\" \")\n",
    "messages = list()\n",
    "for index, film in enumerate(film_descriptions):\n",
    "    description = film[0]\n",
    "    prompt = f\"Expand this movie description: {description}\"\n",
    "    messages.append(prompt)\n",
    "\n",
    "start_offset = 0\n",
    "end_offset = batch_size\n",
    "question_response_pairs = list()\n",
    "while start_offset < number_data_rows:\n",
    "    print(start_offset, end_offset, end=\" \")\n",
    "    responses = llm.generate(messages[start_offset:end_offset], sampling_params)\n",
    "\n",
    "    for r in responses:\n",
    "        original_prompt = r.prompt\n",
    "        generated_text = r.outputs[0].text\n",
    "        assert len(generated_text) > 0\n",
    "        question_response_pairs.append(f\"{original_prompt}:{generated_text}\")\n",
    "\n",
    "    start_offset = end_offset\n",
    "    end_offset = end_offset + batch_size\n",
    "    if end_offset > number_data_rows:\n",
    "        end_offset = number_data_rows\n",
    "\n",
    "assert len(question_response_pairs) == number_data_rows\n",
    "\n",
    "toc = time.perf_counter()\n",
    "print(\"\")\n",
    "print(f\"Time to generate text for {number_data_rows} rows: {toc - tic:0.4f} seconds\")\n",
    "print(len(test_description) * \"-\") "
   ]
  },
  {
   "cell_type": "code",
   "execution_count": 9,
   "id": "5a066f04-9820-4c5b-bda6-56888747e5d2",
   "metadata": {},
   "outputs": [],
   "source": [
    "close_db()"
   ]
  },
  {
   "cell_type": "code",
   "execution_count": null,
   "id": "771d67ca-d73e-44a9-882f-914010d2b811",
   "metadata": {},
   "outputs": [],
   "source": []
  }
 ],
 "metadata": {
  "kernelspec": {
   "display_name": "Python 3.11",
   "language": "python",
   "name": "python3"
  },
  "language_info": {
   "codemirror_mode": {
    "name": "ipython",
    "version": 3
   },
   "file_extension": ".py",
   "mimetype": "text/x-python",
   "name": "python",
   "nbconvert_exporter": "python",
   "pygments_lexer": "ipython3",
   "version": "3.11.7"
  }
 },
 "nbformat": 4,
 "nbformat_minor": 5
}
