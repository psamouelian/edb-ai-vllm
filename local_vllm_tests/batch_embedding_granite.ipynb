{
 "cells": [
  {
   "cell_type": "code",
   "execution_count": 1,
   "id": "a5cffb88-53dc-4022-9137-b30765c511e2",
   "metadata": {},
   "outputs": [
    {
     "name": "stderr",
     "output_type": "stream",
     "text": [
      "/opt/app-root/lib64/python3.11/site-packages/tqdm/auto.py:21: TqdmWarning: IProgress not found. Please update jupyter and ipywidgets. See https://ipywidgets.readthedocs.io/en/stable/user_install.html\n",
      "  from .autonotebook import tqdm as notebook_tqdm\n"
     ]
    },
    {
     "name": "stdout",
     "output_type": "stream",
     "text": [
      "INFO 04-03 16:53:07 [__init__.py:256] Automatically detected platform cuda.\n"
     ]
    },
    {
     "name": "stderr",
     "output_type": "stream",
     "text": [
      "2025-04-03 16:53:07,914\tINFO util.py:154 -- Missing packages: ['ipywidgets']. Run `pip install -U ipywidgets`, then restart the notebook server for rich notebook output.\n"
     ]
    }
   ],
   "source": [
    "import os, time\n",
    "from vllm import LLM"
   ]
  },
  {
   "cell_type": "code",
   "execution_count": 2,
   "id": "5b458e6b-e24d-4f25-93a4-5ed9336943bf",
   "metadata": {},
   "outputs": [],
   "source": [
    "%run ../utilities/curl_utilities.ipynb\n",
    "%run ../utilities/postgres_utilities.ipynb"
   ]
  },
  {
   "cell_type": "code",
   "execution_count": 3,
   "id": "65c191b1-0bae-463b-b66e-389164f2631a",
   "metadata": {},
   "outputs": [],
   "source": [
    "model_name = \"ibm-granite/granite-embedding-278m-multilingual\"\n",
    "number_data_rows = 40000"
   ]
  },
  {
   "cell_type": "code",
   "execution_count": 4,
   "id": "8297fb66-4e3d-49b4-a82c-164c09d43505",
   "metadata": {},
   "outputs": [],
   "source": [
    "connect_db()"
   ]
  },
  {
   "cell_type": "code",
   "execution_count": 5,
   "id": "04b95e5b-03a7-49b3-801c-4042ca96fcf4",
   "metadata": {},
   "outputs": [
    {
     "name": "stdout",
     "output_type": "stream",
     "text": [
      "INFO 04-03 16:53:08 [config.py:540] Found sentence-transformers tokenize configuration.\n",
      "INFO 04-03 16:53:17 [config.py:436] Found sentence-transformers modules configuration.\n",
      "INFO 04-03 16:53:17 [config.py:456] Found pooling configuration.\n",
      "WARNING 04-03 16:53:17 [arg_utils.py:1765] --task embed is not supported by the V1 Engine. Falling back to V0. \n",
      "INFO 04-03 16:53:17 [llm_engine.py:241] Initializing a V0 LLM engine (v0.8.1) with config: model='ibm-granite/granite-embedding-278m-multilingual', speculative_config=None, tokenizer='ibm-granite/granite-embedding-278m-multilingual', skip_tokenizer_init=False, tokenizer_mode=auto, revision=None, override_neuron_config=None, tokenizer_revision=None, trust_remote_code=False, dtype=torch.bfloat16, max_seq_len=512, download_dir=None, load_format=LoadFormat.AUTO, tensor_parallel_size=1, pipeline_parallel_size=1, disable_custom_all_reduce=False, quantization=None, enforce_eager=False, kv_cache_dtype=auto,  device_config=cuda, decoding_config=DecodingConfig(guided_decoding_backend='xgrammar', reasoning_backend=None), observability_config=ObservabilityConfig(show_hidden_metrics=False, otlp_traces_endpoint=None, collect_model_forward_time=False, collect_model_execute_time=False), seed=None, served_model_name=ibm-granite/granite-embedding-278m-multilingual, num_scheduler_steps=1, multi_step_stream_outputs=True, enable_prefix_caching=None, chunked_prefill_enabled=False, use_async_output_proc=False, disable_mm_preprocessor_cache=False, mm_processor_kwargs=None, pooler_config=PoolerConfig(pooling_type='CLS', normalize=True, softmax=None, step_tag_id=None, returned_token_ids=None), compilation_config={\"splitting_ops\":[],\"compile_sizes\":[],\"cudagraph_capture_sizes\":[256,248,240,232,224,216,208,200,192,184,176,168,160,152,144,136,128,120,112,104,96,88,80,72,64,56,48,40,32,24,16,8,4,2,1],\"max_capture_size\":256}, use_cached_outputs=False, \n",
      "INFO 04-03 16:53:20 [cuda.py:285] Using Flash Attention backend.\n",
      "INFO 04-03 16:53:20 [parallel_state.py:967] rank 0 in world size 1 is assigned as DP rank 0, PP rank 0, TP rank 0\n",
      "INFO 04-03 16:53:20 [model_runner.py:1110] Starting to load model ibm-granite/granite-embedding-278m-multilingual...\n",
      "INFO 04-03 16:53:21 [weight_utils.py:257] Using model weights format ['*.safetensors']\n",
      "INFO 04-03 16:53:22 [weight_utils.py:273] Time spent downloading weights for ibm-granite/granite-embedding-278m-multilingual: 0.947907 seconds\n",
      "INFO 04-03 16:53:22 [weight_utils.py:307] No model.safetensors.index.json found in remote.\n"
     ]
    },
    {
     "name": "stderr",
     "output_type": "stream",
     "text": [
      "Loading safetensors checkpoint shards:   0% Completed | 0/1 [00:00<?, ?it/s]\n",
      "Loading safetensors checkpoint shards: 100% Completed | 1/1 [00:00<00:00, 117.08it/s]\n"
     ]
    },
    {
     "name": "stdout",
     "output_type": "stream",
     "text": [
      "INFO 04-03 16:53:22 [loader.py:429] Loading weights took 0.12 seconds\n",
      "INFO 04-03 16:53:22 [model_runner.py:1146] Model loading took 0.5234 GB and 1.411305 seconds\n"
     ]
    },
    {
     "name": "stderr",
     "output_type": "stream",
     "text": [
      "\n"
     ]
    }
   ],
   "source": [
    "llm = LLM(model=model_name, task=\"embed\")"
   ]
  },
  {
   "cell_type": "code",
   "execution_count": null,
   "id": "01305377-e7ef-4e4e-b0c3-64cc5cc47c6a",
   "metadata": {},
   "outputs": [],
   "source": []
  },
  {
   "cell_type": "code",
   "execution_count": 6,
   "id": "6039eddb-8331-46a5-bc28-90db1ab403ea",
   "metadata": {},
   "outputs": [],
   "source": [
    "sql = f\"select productdisplayname from products where productdisplayname is not null limit {number_data_rows}\"\n",
    "results = execute_sql_results(sql)"
   ]
  },
  {
   "cell_type": "code",
   "execution_count": 7,
   "id": "d20ef999-3e36-44a9-95c6-b0b37218c460",
   "metadata": {},
   "outputs": [
    {
     "name": "stdout",
     "output_type": "stream",
     "text": [
      "Starting batch embedding test using local vllm\n",
      "----------------------------------------------\n",
      "Embeddings computed ... 0 40000 "
     ]
    },
    {
     "name": "stderr",
     "output_type": "stream",
     "text": [
      "Processed prompts: 100%|██████████| 40000/40000 [00:14<00:00, 2717.64it/s, est. speed input: 0.00 toks/s, output: 0.00 toks/s]\n"
     ]
    },
    {
     "name": "stdout",
     "output_type": "stream",
     "text": [
      "\n",
      "Time to compute 40000 embeddings: 25.5722 seconds\n",
      "----------------------------------------------\n"
     ]
    }
   ],
   "source": [
    "test_description = \"Starting batch embedding test using local vllm\"\n",
    "print(test_description)\n",
    "print(len(test_description) * \"-\") \n",
    "tic = time.perf_counter()\n",
    "print(\"Embeddings computed ...\", end=\" \")\n",
    "descriptions = list()\n",
    "for index, product in enumerate(results):\n",
    "    descriptions.append(product[0])\n",
    "\n",
    "batch_size = 40000\n",
    "start_offset = 0\n",
    "end_offset = batch_size\n",
    "embeddings = list()\n",
    "while start_offset < number_data_rows:\n",
    "    print(start_offset, end_offset, end=\" \")\n",
    "    embeddings = embeddings + llm.embed(descriptions[start_offset:end_offset])\n",
    "    start_offset = end_offset\n",
    "    end_offset = end_offset + batch_size\n",
    "    if end_offset > number_data_rows:\n",
    "        end_offset = number_data_rows\n",
    "\n",
    "toc = time.perf_counter()\n",
    "\n",
    "assert len(embeddings) == number_data_rows\n",
    "for e in embeddings:\n",
    "    assert(len(e.outputs.embedding) == 768)\n",
    "\n",
    "print(\"\")\n",
    "print(f\"Time to compute {number_data_rows} embeddings: {toc - tic:0.4f} seconds\")\n",
    "print(len(test_description) * \"-\") "
   ]
  },
  {
   "cell_type": "code",
   "execution_count": 8,
   "id": "38673fc1-a8d0-4de1-b6e1-26402f1b3447",
   "metadata": {},
   "outputs": [],
   "source": [
    "close_db()"
   ]
  },
  {
   "cell_type": "code",
   "execution_count": null,
   "id": "3ee179f9-ff7f-44bb-9bc4-2064f89ea42b",
   "metadata": {},
   "outputs": [],
   "source": []
  }
 ],
 "metadata": {
  "kernelspec": {
   "display_name": "Python 3.11",
   "language": "python",
   "name": "python3"
  },
  "language_info": {
   "codemirror_mode": {
    "name": "ipython",
    "version": 3
   },
   "file_extension": ".py",
   "mimetype": "text/x-python",
   "name": "python",
   "nbconvert_exporter": "python",
   "pygments_lexer": "ipython3",
   "version": "3.11.7"
  }
 },
 "nbformat": 4,
 "nbformat_minor": 5
}
