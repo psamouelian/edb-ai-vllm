{
 "cells": [
  {
   "cell_type": "code",
   "execution_count": null,
   "id": "d4d4fb25-5673-425b-8475-a388aca15db6",
   "metadata": {},
   "outputs": [],
   "source": [
    "import psycopg2\n",
    "import os"
   ]
  },
  {
   "cell_type": "code",
   "execution_count": null,
   "id": "c465641c-0759-4df8-9987-6704064afbab",
   "metadata": {},
   "outputs": [],
   "source": [
    "postgres_uri = os.environ.get('URI')"
   ]
  },
  {
   "cell_type": "code",
   "execution_count": null,
   "id": "dc749262-f3f9-4f40-afd7-3cc6b9c69a96",
   "metadata": {},
   "outputs": [],
   "source": []
  },
  {
   "cell_type": "code",
   "execution_count": null,
   "id": "c6dcf567-76b9-4606-90c0-53e4b453517d",
   "metadata": {},
   "outputs": [],
   "source": [
    "def execute_sql(sql):\n",
    "    try:\n",
    "        conn = psycopg2.connect(postgres_uri)\n",
    "        cur = conn.cursor()\n",
    "        cur.execute(sql)\n",
    "        conn.commit()\n",
    "    finally:\n",
    "        if conn is not None:\n",
    "            conn.close()"
   ]
  },
  {
   "cell_type": "code",
   "execution_count": null,
   "id": "ff6ff3ff-565d-4227-8c98-570110f5c39b",
   "metadata": {},
   "outputs": [],
   "source": [
    "def execute_sql_results(sql):\n",
    "    try:\n",
    "        conn = psycopg2.connect(postgres_uri)\n",
    "        cur = conn.cursor()\n",
    "        cur.execute(sql)\n",
    "        rows = cur.fetchall()\n",
    "        return rows\n",
    "    finally:\n",
    "        if conn is not None:\n",
    "            conn.close()"
   ]
  },
  {
   "cell_type": "code",
   "execution_count": null,
   "id": "4705bc2b-f8cd-4637-9e72-ee7e05b57169",
   "metadata": {},
   "outputs": [],
   "source": [
    "sql = 'select film_id, title, description from film limit 10'"
   ]
  },
  {
   "cell_type": "code",
   "execution_count": null,
   "id": "8a5c8f33-6cb0-4f24-87dd-939780ef0644",
   "metadata": {},
   "outputs": [],
   "source": [
    "rows = execute_sql_results(sql)\n",
    "for row in rows:\n",
    "    print(row)"
   ]
  },
  {
   "cell_type": "code",
   "execution_count": null,
   "id": "85b70251-e8ee-4e7f-a92f-7c156e0d4c7a",
   "metadata": {},
   "outputs": [],
   "source": [
    "sql = \"\"\"\n",
    "    select film_id, title, description, 1 - (aidb.encode_text('bert', description)::vector <=>\n",
    "\taidb.encode_text('bert', 'A movie about cats in Australia')::vector) as cosine_similarity_score from film order by 4 desc limit 10\n",
    "    \"\"\""
   ]
  },
  {
   "cell_type": "code",
   "execution_count": null,
   "id": "cdc73397-7c2b-4784-bf16-2a756c9d59fa",
   "metadata": {},
   "outputs": [],
   "source": [
    "rows = execute_sql_results(sql)\n",
    "for row in rows:\n",
    "    print(row)"
   ]
  },
  {
   "cell_type": "code",
   "execution_count": null,
   "id": "39535ef5-8488-497b-801d-30ebb27682d6",
   "metadata": {},
   "outputs": [],
   "source": []
  },
  {
   "cell_type": "code",
   "execution_count": null,
   "id": "a87b94f6-8e28-4496-9939-3727218571ec",
   "metadata": {},
   "outputs": [],
   "source": [
    "#inference_server = \"https://deepseek7b.samouelian-edb-ai.svc.cluster.local/embeddings\"\n",
    "sql = \"\"\"\n",
    "    select aidb.create_model(\n",
    "    'deepseek',\n",
    "    'embeddings',\n",
    "    '{\"model\":\"deepseek-ai/DeepSeek-R1-Distill-Llama-8B\", \"url\":\"https://deepseek7b.samouelian-edb-ai.svc.cluster.local/embeddings\", \n",
    "    \"dimensions\":7168}'::JSONB);\n",
    "    \"\"\""
   ]
  },
  {
   "cell_type": "code",
   "execution_count": null,
   "id": "bc131890-d4af-4c39-a748-5b7646f2ff28",
   "metadata": {},
   "outputs": [],
   "source": [
    "execute_sql(sql)"
   ]
  },
  {
   "cell_type": "code",
   "execution_count": null,
   "id": "ecea6245-5ac8-40bf-93ff-5ba2323a429a",
   "metadata": {},
   "outputs": [],
   "source": []
  },
  {
   "cell_type": "code",
   "execution_count": null,
   "id": "cf3632a5-aefc-4c43-b1da-f6ee14483f2e",
   "metadata": {},
   "outputs": [],
   "source": [
    "sql = \"\"\"\n",
    "    select film_id, title, description, 1 - (aidb.encode_text('bert', description)::vector <=>\n",
    "\taidb.encode_text('bert', 'A movie about cats in Australia')::vector) as cosine_similarity_score from film order by 4 desc limit 10\n",
    "    \"\"\""
   ]
  },
  {
   "cell_type": "code",
   "execution_count": null,
   "id": "2bb7b227-44b4-4b8f-b03c-2272acf42452",
   "metadata": {},
   "outputs": [],
   "source": []
  },
  {
   "cell_type": "code",
   "execution_count": null,
   "id": "d0b8bd93-8cc1-400d-931e-4792e5e64485",
   "metadata": {},
   "outputs": [],
   "source": [
    "#Below is a curl REST example for retrieving an embedding"
   ]
  },
  {
   "cell_type": "code",
   "execution_count": 9,
   "id": "079a05bc-d9ee-401f-9d8f-3e7bb22b06c9",
   "metadata": {},
   "outputs": [],
   "source": [
    "import pycurl\n",
    "import json\n",
    "from io import BytesIO\n",
    "\n",
    "endpoint = \"https://grit-llm.samouelian-edb-ai.svc.cluster.local/v1/embeddings\"\n",
    "\n",
    "data = {\n",
    "     \"model\": \"grit-llm\",\n",
    "     \"input\": [\"this is a test\"],\n",
    "     \"encoding_format\":\"float\"\n",
    "}\n",
    "\n",
    "post_data = json.dumps(data)\n",
    "headers = ['Content-Type: application/json']\n",
    "buffer = BytesIO()"
   ]
  },
  {
   "cell_type": "code",
   "execution_count": null,
   "id": "22379db6-0aec-47ef-9f02-74ef58f30838",
   "metadata": {},
   "outputs": [],
   "source": []
  },
  {
   "cell_type": "code",
   "execution_count": null,
   "id": "4d759c1e-8d70-43f5-b14a-9b79032a57e9",
   "metadata": {},
   "outputs": [],
   "source": []
  }
 ],
 "metadata": {
  "kernelspec": {
   "display_name": "Python 3.11",
   "language": "python",
   "name": "python3"
  },
  "language_info": {
   "codemirror_mode": {
    "name": "ipython",
    "version": 3
   },
   "file_extension": ".py",
   "mimetype": "text/x-python",
   "name": "python",
   "nbconvert_exporter": "python",
   "pygments_lexer": "ipython3",
   "version": "3.11.7"
  }
 },
 "nbformat": 4,
 "nbformat_minor": 5
}
