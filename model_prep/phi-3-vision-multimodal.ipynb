{
 "cells": [
  {
   "cell_type": "code",
   "execution_count": 1,
   "id": "27e7f784-4c8c-482a-b981-caaaea9e814a",
   "metadata": {},
   "outputs": [
    {
     "name": "stderr",
     "output_type": "stream",
     "text": [
      "/opt/app-root/lib64/python3.11/site-packages/tqdm/auto.py:21: TqdmWarning: IProgress not found. Please update jupyter and ipywidgets. See https://ipywidgets.readthedocs.io/en/stable/user_install.html\n",
      "  from .autonotebook import tqdm as notebook_tqdm\n"
     ]
    }
   ],
   "source": [
    "import torch\n",
    "from sentence_transformers import SentenceTransformer\n",
    "from transformers import AutoTokenizer, AutoModel\n",
    "import os\n",
    "import time\n",
    "import boto3\n",
    "import botocore\n",
    "from pathlib import Path\n",
    "from huggingface_hub import login"
   ]
  },
  {
   "cell_type": "code",
   "execution_count": 2,
   "id": "34f4e69b-6caa-4f78-9d7b-40b6888b9085",
   "metadata": {},
   "outputs": [],
   "source": [
    "login_token = os.environ.get('huggingface_token')\n",
    "login(token=login_token)"
   ]
  },
  {
   "cell_type": "code",
   "execution_count": 3,
   "id": "d855e780-ed65-4494-84a6-3c0cbfb13e8a",
   "metadata": {},
   "outputs": [],
   "source": [
    "#Setup variables for this script"
   ]
  },
  {
   "cell_type": "code",
   "execution_count": 4,
   "id": "27d0a587-e125-4cc8-b44e-6fda1bcf79d9",
   "metadata": {},
   "outputs": [],
   "source": [
    "root_models_path = './models'\n",
    "model_prefix = \"microsoft\"\n",
    "model_name = \"Phi-3-vision-128k-instruct\"\n",
    "full_model_name = f\"{model_prefix}/{model_name}\"\n",
    "save_path = Path.home().joinpath(root_models_path, model_name)"
   ]
  },
  {
   "cell_type": "code",
   "execution_count": 5,
   "id": "18983707-3da5-41c7-9650-6bc26bafaabd",
   "metadata": {},
   "outputs": [],
   "source": [
    "#Download model"
   ]
  },
  {
   "cell_type": "code",
   "execution_count": null,
   "id": "1e26e220-2689-4189-bfb3-8caa284326a0",
   "metadata": {},
   "outputs": [],
   "source": [
    "from huggingface_hub import snapshot_download\n",
    "snapshot_download(repo_id=\"microsoft/Phi-3-vision-128k-instruct\", local_dir=save_path)"
   ]
  },
  {
   "cell_type": "code",
   "execution_count": null,
   "id": "b91fddbb-dbf8-424f-8850-6c036c8ce951",
   "metadata": {},
   "outputs": [],
   "source": [
    "#Get the s3 connection parameters (these are entered in the workbench setup screens)"
   ]
  },
  {
   "cell_type": "code",
   "execution_count": 6,
   "id": "5e4bc9e8-fa33-4214-a262-23c85c17524f",
   "metadata": {},
   "outputs": [],
   "source": [
    "aws_access_key_id = os.environ.get('AWS_ACCESS_KEY_ID')\n",
    "aws_secret_access_key = os.environ.get('AWS_SECRET_ACCESS_KEY')\n",
    "endpoint_url = os.environ.get('AWS_S3_ENDPOINT')\n",
    "region_name = os.environ.get('AWS_DEFAULT_REGION')\n",
    "bucket_name = os.environ.get('AWS_S3_BUCKET')"
   ]
  },
  {
   "cell_type": "code",
   "execution_count": null,
   "id": "400e9893-9a3f-4403-a5f2-63bd250365cd",
   "metadata": {},
   "outputs": [],
   "source": []
  },
  {
   "cell_type": "code",
   "execution_count": 9,
   "id": "56780323-cf14-460c-8458-123e56f39b2e",
   "metadata": {},
   "outputs": [],
   "source": [
    "session = boto3.session.Session(\n",
    "            aws_access_key_id=aws_access_key_id,\n",
    "            aws_secret_access_key=aws_secret_access_key\n",
    "          )"
   ]
  },
  {
   "cell_type": "code",
   "execution_count": 10,
   "id": "e2132e99-8a1b-4450-b01c-a5799eca39c9",
   "metadata": {},
   "outputs": [],
   "source": [
    "s3_resource = session.resource(\n",
    "               's3',\n",
    "               config=botocore.client.Config(signature_version='s3v4'),\n",
    "               endpoint_url=endpoint_url,\n",
    "               region_name=region_name\n",
    "              )\n",
    "bucket = s3_resource.Bucket(bucket_name)\n",
    "                        \n",
    "def upload_directory_to_s3(local_directory, s3_prefix):\n",
    "    for root, dirs, files in os.walk(local_directory):\n",
    "        for filename in files:\n",
    "            file_path = os.path.join(root, filename)\n",
    "            relative_path = os.path.relpath(file_path, local_directory)\n",
    "            s3_key = os.path.join(s3_prefix, relative_path)\n",
    "            print(f\"{file_path} -> {s3_key}\")\n",
    "            bucket.upload_file(file_path, s3_key)\n",
    "                                \n",
    "def list_objects(prefix):\n",
    "    filter = bucket.objects.filter(Prefix=prefix)\n",
    "    for obj in filter.all():\n",
    "        print(obj.key)"
   ]
  },
  {
   "cell_type": "code",
   "execution_count": 11,
   "id": "9eb867dc-0e10-42ea-b17c-32ee83fc88e7",
   "metadata": {},
   "outputs": [],
   "source": [
    "#Upload the model to an S3 bucket within the cluster"
   ]
  },
  {
   "cell_type": "code",
   "execution_count": 12,
   "id": "b3cd32e4-94ed-4e81-baec-152fbe4409cb",
   "metadata": {},
   "outputs": [
    {
     "name": "stdout",
     "output_type": "stream",
     "text": [
      "/opt/app-root/src/models/Phi-3-vision-128k-instruct/README.md -> Phi-3-vision-128k-instruct/README.md\n",
      "/opt/app-root/src/models/Phi-3-vision-128k-instruct/SECURITY.md -> Phi-3-vision-128k-instruct/SECURITY.md\n",
      "/opt/app-root/src/models/Phi-3-vision-128k-instruct/sample_inference.py -> Phi-3-vision-128k-instruct/sample_inference.py\n",
      "/opt/app-root/src/models/Phi-3-vision-128k-instruct/tokenizer.json -> Phi-3-vision-128k-instruct/tokenizer.json\n",
      "/opt/app-root/src/models/Phi-3-vision-128k-instruct/.gitattributes -> Phi-3-vision-128k-instruct/.gitattributes\n",
      "/opt/app-root/src/models/Phi-3-vision-128k-instruct/modeling_phi3_v.py -> Phi-3-vision-128k-instruct/modeling_phi3_v.py\n",
      "/opt/app-root/src/models/Phi-3-vision-128k-instruct/preprocessor_config.json -> Phi-3-vision-128k-instruct/preprocessor_config.json\n",
      "/opt/app-root/src/models/Phi-3-vision-128k-instruct/image_processing_phi3_v.py -> Phi-3-vision-128k-instruct/image_processing_phi3_v.py\n",
      "/opt/app-root/src/models/Phi-3-vision-128k-instruct/CODE_OF_CONDUCT.md -> Phi-3-vision-128k-instruct/CODE_OF_CONDUCT.md\n",
      "/opt/app-root/src/models/Phi-3-vision-128k-instruct/tokenizer_config.json -> Phi-3-vision-128k-instruct/tokenizer_config.json\n",
      "/opt/app-root/src/models/Phi-3-vision-128k-instruct/processing_phi3_v.py -> Phi-3-vision-128k-instruct/processing_phi3_v.py\n",
      "/opt/app-root/src/models/Phi-3-vision-128k-instruct/SUPPORT.md -> Phi-3-vision-128k-instruct/SUPPORT.md\n",
      "/opt/app-root/src/models/Phi-3-vision-128k-instruct/image_embedding_phi3_v.py -> Phi-3-vision-128k-instruct/image_embedding_phi3_v.py\n",
      "/opt/app-root/src/models/Phi-3-vision-128k-instruct/model-00002-of-00002.safetensors -> Phi-3-vision-128k-instruct/model-00002-of-00002.safetensors\n",
      "/opt/app-root/src/models/Phi-3-vision-128k-instruct/model-00001-of-00002.safetensors -> Phi-3-vision-128k-instruct/model-00001-of-00002.safetensors\n",
      "/opt/app-root/src/models/Phi-3-vision-128k-instruct/model.safetensors.index.json -> Phi-3-vision-128k-instruct/model.safetensors.index.json\n",
      "/opt/app-root/src/models/Phi-3-vision-128k-instruct/LICENSE -> Phi-3-vision-128k-instruct/LICENSE\n",
      "/opt/app-root/src/models/Phi-3-vision-128k-instruct/special_tokens_map.json -> Phi-3-vision-128k-instruct/special_tokens_map.json\n",
      "/opt/app-root/src/models/Phi-3-vision-128k-instruct/config.json -> Phi-3-vision-128k-instruct/config.json\n",
      "/opt/app-root/src/models/Phi-3-vision-128k-instruct/configuration_phi3_v.py -> Phi-3-vision-128k-instruct/configuration_phi3_v.py\n",
      "/opt/app-root/src/models/Phi-3-vision-128k-instruct/.cache/huggingface/.gitignore -> Phi-3-vision-128k-instruct/.cache/huggingface/.gitignore\n",
      "/opt/app-root/src/models/Phi-3-vision-128k-instruct/.cache/huggingface/download/model.safetensors.index.json.lock -> Phi-3-vision-128k-instruct/.cache/huggingface/download/model.safetensors.index.json.lock\n",
      "/opt/app-root/src/models/Phi-3-vision-128k-instruct/.cache/huggingface/download/modeling_phi3_v.py.metadata -> Phi-3-vision-128k-instruct/.cache/huggingface/download/modeling_phi3_v.py.metadata\n",
      "/opt/app-root/src/models/Phi-3-vision-128k-instruct/.cache/huggingface/download/config.json.metadata -> Phi-3-vision-128k-instruct/.cache/huggingface/download/config.json.metadata\n",
      "/opt/app-root/src/models/Phi-3-vision-128k-instruct/.cache/huggingface/download/processing_phi3_v.py.lock -> Phi-3-vision-128k-instruct/.cache/huggingface/download/processing_phi3_v.py.lock\n",
      "/opt/app-root/src/models/Phi-3-vision-128k-instruct/.cache/huggingface/download/LICENSE.metadata -> Phi-3-vision-128k-instruct/.cache/huggingface/download/LICENSE.metadata\n",
      "/opt/app-root/src/models/Phi-3-vision-128k-instruct/.cache/huggingface/download/image_embedding_phi3_v.py.lock -> Phi-3-vision-128k-instruct/.cache/huggingface/download/image_embedding_phi3_v.py.lock\n",
      "/opt/app-root/src/models/Phi-3-vision-128k-instruct/.cache/huggingface/download/image_processing_phi3_v.py.lock -> Phi-3-vision-128k-instruct/.cache/huggingface/download/image_processing_phi3_v.py.lock\n",
      "/opt/app-root/src/models/Phi-3-vision-128k-instruct/.cache/huggingface/download/configuration_phi3_v.py.lock -> Phi-3-vision-128k-instruct/.cache/huggingface/download/configuration_phi3_v.py.lock\n",
      "/opt/app-root/src/models/Phi-3-vision-128k-instruct/.cache/huggingface/download/sample_inference.py.metadata -> Phi-3-vision-128k-instruct/.cache/huggingface/download/sample_inference.py.metadata\n",
      "/opt/app-root/src/models/Phi-3-vision-128k-instruct/.cache/huggingface/download/model-00001-of-00002.safetensors.metadata -> Phi-3-vision-128k-instruct/.cache/huggingface/download/model-00001-of-00002.safetensors.metadata\n",
      "/opt/app-root/src/models/Phi-3-vision-128k-instruct/.cache/huggingface/download/model-00001-of-00002.safetensors.lock -> Phi-3-vision-128k-instruct/.cache/huggingface/download/model-00001-of-00002.safetensors.lock\n",
      "/opt/app-root/src/models/Phi-3-vision-128k-instruct/.cache/huggingface/download/SECURITY.md.lock -> Phi-3-vision-128k-instruct/.cache/huggingface/download/SECURITY.md.lock\n",
      "/opt/app-root/src/models/Phi-3-vision-128k-instruct/.cache/huggingface/download/tokenizer_config.json.lock -> Phi-3-vision-128k-instruct/.cache/huggingface/download/tokenizer_config.json.lock\n",
      "/opt/app-root/src/models/Phi-3-vision-128k-instruct/.cache/huggingface/download/model-00002-of-00002.safetensors.metadata -> Phi-3-vision-128k-instruct/.cache/huggingface/download/model-00002-of-00002.safetensors.metadata\n",
      "/opt/app-root/src/models/Phi-3-vision-128k-instruct/.cache/huggingface/download/tokenizer.json.metadata -> Phi-3-vision-128k-instruct/.cache/huggingface/download/tokenizer.json.metadata\n",
      "/opt/app-root/src/models/Phi-3-vision-128k-instruct/.cache/huggingface/download/special_tokens_map.json.metadata -> Phi-3-vision-128k-instruct/.cache/huggingface/download/special_tokens_map.json.metadata\n",
      "/opt/app-root/src/models/Phi-3-vision-128k-instruct/.cache/huggingface/download/tokenizer_config.json.metadata -> Phi-3-vision-128k-instruct/.cache/huggingface/download/tokenizer_config.json.metadata\n",
      "/opt/app-root/src/models/Phi-3-vision-128k-instruct/.cache/huggingface/download/SUPPORT.md.lock -> Phi-3-vision-128k-instruct/.cache/huggingface/download/SUPPORT.md.lock\n",
      "/opt/app-root/src/models/Phi-3-vision-128k-instruct/.cache/huggingface/download/configuration_phi3_v.py.metadata -> Phi-3-vision-128k-instruct/.cache/huggingface/download/configuration_phi3_v.py.metadata\n",
      "/opt/app-root/src/models/Phi-3-vision-128k-instruct/.cache/huggingface/download/sample_inference.py.lock -> Phi-3-vision-128k-instruct/.cache/huggingface/download/sample_inference.py.lock\n",
      "/opt/app-root/src/models/Phi-3-vision-128k-instruct/.cache/huggingface/download/modeling_phi3_v.py.lock -> Phi-3-vision-128k-instruct/.cache/huggingface/download/modeling_phi3_v.py.lock\n",
      "/opt/app-root/src/models/Phi-3-vision-128k-instruct/.cache/huggingface/download/tokenizer.json.lock -> Phi-3-vision-128k-instruct/.cache/huggingface/download/tokenizer.json.lock\n",
      "/opt/app-root/src/models/Phi-3-vision-128k-instruct/.cache/huggingface/download/CODE_OF_CONDUCT.md.metadata -> Phi-3-vision-128k-instruct/.cache/huggingface/download/CODE_OF_CONDUCT.md.metadata\n",
      "/opt/app-root/src/models/Phi-3-vision-128k-instruct/.cache/huggingface/download/model.safetensors.index.json.metadata -> Phi-3-vision-128k-instruct/.cache/huggingface/download/model.safetensors.index.json.metadata\n",
      "/opt/app-root/src/models/Phi-3-vision-128k-instruct/.cache/huggingface/download/.gitattributes.lock -> Phi-3-vision-128k-instruct/.cache/huggingface/download/.gitattributes.lock\n",
      "/opt/app-root/src/models/Phi-3-vision-128k-instruct/.cache/huggingface/download/SUPPORT.md.metadata -> Phi-3-vision-128k-instruct/.cache/huggingface/download/SUPPORT.md.metadata\n",
      "/opt/app-root/src/models/Phi-3-vision-128k-instruct/.cache/huggingface/download/README.md.metadata -> Phi-3-vision-128k-instruct/.cache/huggingface/download/README.md.metadata\n",
      "/opt/app-root/src/models/Phi-3-vision-128k-instruct/.cache/huggingface/download/LICENSE.lock -> Phi-3-vision-128k-instruct/.cache/huggingface/download/LICENSE.lock\n",
      "/opt/app-root/src/models/Phi-3-vision-128k-instruct/.cache/huggingface/download/preprocessor_config.json.lock -> Phi-3-vision-128k-instruct/.cache/huggingface/download/preprocessor_config.json.lock\n",
      "/opt/app-root/src/models/Phi-3-vision-128k-instruct/.cache/huggingface/download/model-00002-of-00002.safetensors.lock -> Phi-3-vision-128k-instruct/.cache/huggingface/download/model-00002-of-00002.safetensors.lock\n",
      "/opt/app-root/src/models/Phi-3-vision-128k-instruct/.cache/huggingface/download/SECURITY.md.metadata -> Phi-3-vision-128k-instruct/.cache/huggingface/download/SECURITY.md.metadata\n",
      "/opt/app-root/src/models/Phi-3-vision-128k-instruct/.cache/huggingface/download/config.json.lock -> Phi-3-vision-128k-instruct/.cache/huggingface/download/config.json.lock\n",
      "/opt/app-root/src/models/Phi-3-vision-128k-instruct/.cache/huggingface/download/image_processing_phi3_v.py.metadata -> Phi-3-vision-128k-instruct/.cache/huggingface/download/image_processing_phi3_v.py.metadata\n",
      "/opt/app-root/src/models/Phi-3-vision-128k-instruct/.cache/huggingface/download/image_embedding_phi3_v.py.metadata -> Phi-3-vision-128k-instruct/.cache/huggingface/download/image_embedding_phi3_v.py.metadata\n",
      "/opt/app-root/src/models/Phi-3-vision-128k-instruct/.cache/huggingface/download/processing_phi3_v.py.metadata -> Phi-3-vision-128k-instruct/.cache/huggingface/download/processing_phi3_v.py.metadata\n",
      "/opt/app-root/src/models/Phi-3-vision-128k-instruct/.cache/huggingface/download/CODE_OF_CONDUCT.md.lock -> Phi-3-vision-128k-instruct/.cache/huggingface/download/CODE_OF_CONDUCT.md.lock\n",
      "/opt/app-root/src/models/Phi-3-vision-128k-instruct/.cache/huggingface/download/preprocessor_config.json.metadata -> Phi-3-vision-128k-instruct/.cache/huggingface/download/preprocessor_config.json.metadata\n",
      "/opt/app-root/src/models/Phi-3-vision-128k-instruct/.cache/huggingface/download/special_tokens_map.json.lock -> Phi-3-vision-128k-instruct/.cache/huggingface/download/special_tokens_map.json.lock\n",
      "/opt/app-root/src/models/Phi-3-vision-128k-instruct/.cache/huggingface/download/.gitattributes.metadata -> Phi-3-vision-128k-instruct/.cache/huggingface/download/.gitattributes.metadata\n",
      "/opt/app-root/src/models/Phi-3-vision-128k-instruct/.cache/huggingface/download/README.md.lock -> Phi-3-vision-128k-instruct/.cache/huggingface/download/README.md.lock\n"
     ]
    }
   ],
   "source": [
    "upload_directory_to_s3(save_path, model_name)"
   ]
  },
  {
   "cell_type": "code",
   "execution_count": null,
   "id": "35b5c0d5-7926-435c-9bcc-8f63b759dc1b",
   "metadata": {},
   "outputs": [],
   "source": []
  }
 ],
 "metadata": {
  "kernelspec": {
   "display_name": "Python 3.11",
   "language": "python",
   "name": "python3"
  },
  "language_info": {
   "codemirror_mode": {
    "name": "ipython",
    "version": 3
   },
   "file_extension": ".py",
   "mimetype": "text/x-python",
   "name": "python",
   "nbconvert_exporter": "python",
   "pygments_lexer": "ipython3",
   "version": "3.11.7"
  }
 },
 "nbformat": 4,
 "nbformat_minor": 5
}
