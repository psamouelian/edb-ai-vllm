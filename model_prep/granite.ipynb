{
 "cells": [
  {
   "cell_type": "code",
   "execution_count": 1,
   "id": "724ae535-b029-414a-924b-8ad09f7df73c",
   "metadata": {},
   "outputs": [
    {
     "name": "stderr",
     "output_type": "stream",
     "text": [
      "/opt/app-root/lib64/python3.11/site-packages/tqdm/auto.py:21: TqdmWarning: IProgress not found. Please update jupyter and ipywidgets. See https://ipywidgets.readthedocs.io/en/stable/user_install.html\n",
      "  from .autonotebook import tqdm as notebook_tqdm\n"
     ]
    }
   ],
   "source": [
    "import torch\n",
    "from sentence_transformers import SentenceTransformer\n",
    "from transformers import AutoTokenizer, AutoModel\n",
    "import os\n",
    "import time\n",
    "import boto3\n",
    "import botocore\n",
    "from pathlib import Path\n",
    "from huggingface_hub import login"
   ]
  },
  {
   "cell_type": "code",
   "execution_count": null,
   "id": "b98987dd-e5b1-4302-9689-095970834c05",
   "metadata": {},
   "outputs": [],
   "source": []
  },
  {
   "cell_type": "code",
   "execution_count": 2,
   "id": "1c532e2f-29da-4670-ac8b-da14e34ee4ea",
   "metadata": {},
   "outputs": [],
   "source": [
    "login_token = os.environ.get('huggingface_token')\n",
    "login(token=login_token)"
   ]
  },
  {
   "cell_type": "code",
   "execution_count": null,
   "id": "f68f79e5-0ad2-48aa-949d-c879cbbcdf73",
   "metadata": {},
   "outputs": [],
   "source": []
  },
  {
   "cell_type": "code",
   "execution_count": 3,
   "id": "e64d8e7b-0776-475c-9415-c36d61db2b03",
   "metadata": {},
   "outputs": [],
   "source": [
    "#Setup variables for this script"
   ]
  },
  {
   "cell_type": "code",
   "execution_count": 4,
   "id": "0df4bf28-4764-4c64-8ed3-c1491e5e1867",
   "metadata": {},
   "outputs": [],
   "source": [
    "root_models_path = './models'\n",
    "model_prefix = \"ibm-granite\"\n",
    "model_name = \"granite-embedding-278m-multilingual\"\n",
    "full_model_name = f\"{model_prefix}/{model_name}\"\n",
    "save_path = Path.home().joinpath(root_models_path, model_name)"
   ]
  },
  {
   "cell_type": "code",
   "execution_count": null,
   "id": "3a182279-f5af-4dd2-94da-cf51d0e32df6",
   "metadata": {},
   "outputs": [],
   "source": []
  },
  {
   "cell_type": "code",
   "execution_count": 5,
   "id": "26c50eae-2c6a-43fd-9b8a-752774307a4f",
   "metadata": {},
   "outputs": [],
   "source": [
    "#Download model"
   ]
  },
  {
   "cell_type": "code",
   "execution_count": 6,
   "id": "5ab8d569-dbf0-46ec-9542-2ba6109846d9",
   "metadata": {},
   "outputs": [
    {
     "name": "stderr",
     "output_type": "stream",
     "text": [
      "Fetching 12 files: 100%|██████████| 12/12 [00:03<00:00,  3.01it/s]\n"
     ]
    },
    {
     "data": {
      "text/plain": [
       "'/opt/app-root/src/models/granite-embedding-278m-multilingual'"
      ]
     },
     "execution_count": 6,
     "metadata": {},
     "output_type": "execute_result"
    }
   ],
   "source": [
    "from huggingface_hub import snapshot_download\n",
    "snapshot_download(repo_id=full_model_name, local_dir=save_path)"
   ]
  },
  {
   "cell_type": "code",
   "execution_count": null,
   "id": "73819ddb-758c-447a-bbff-062c573446cb",
   "metadata": {},
   "outputs": [],
   "source": []
  },
  {
   "cell_type": "code",
   "execution_count": 7,
   "id": "491cad34-4900-4505-8776-80cdbaf10f4c",
   "metadata": {},
   "outputs": [],
   "source": [
    "#Get the s3 connection parameters (these are entered in the workbench setup screens)"
   ]
  },
  {
   "cell_type": "code",
   "execution_count": 8,
   "id": "f37ef171-1870-42ee-823e-658a3a54ccfa",
   "metadata": {},
   "outputs": [],
   "source": [
    "aws_access_key_id = os.environ.get('AWS_ACCESS_KEY_ID')\n",
    "aws_secret_access_key = os.environ.get('AWS_SECRET_ACCESS_KEY')\n",
    "endpoint_url = os.environ.get('AWS_S3_ENDPOINT')\n",
    "region_name = os.environ.get('AWS_DEFAULT_REGION')\n",
    "bucket_name = os.environ.get('AWS_S3_BUCKET')"
   ]
  },
  {
   "cell_type": "code",
   "execution_count": null,
   "id": "d1b70f71-b948-4ead-8c80-5bfd6676c7df",
   "metadata": {},
   "outputs": [],
   "source": []
  },
  {
   "cell_type": "code",
   "execution_count": 9,
   "id": "d05b31cc-a3e8-499d-9161-9266f4b498e7",
   "metadata": {},
   "outputs": [],
   "source": [
    "session = boto3.session.Session(\n",
    "            aws_access_key_id=aws_access_key_id,\n",
    "            aws_secret_access_key=aws_secret_access_key\n",
    "          )"
   ]
  },
  {
   "cell_type": "code",
   "execution_count": 10,
   "id": "c1cc7ae9-07b0-403e-a9d9-7444c4707081",
   "metadata": {},
   "outputs": [],
   "source": [
    "s3_resource = session.resource(\n",
    "               's3',\n",
    "               config=botocore.client.Config(signature_version='s3v4'),\n",
    "               endpoint_url=endpoint_url,\n",
    "               region_name=region_name\n",
    "              )\n",
    "bucket = s3_resource.Bucket(bucket_name)\n",
    "                        \n",
    "def upload_directory_to_s3(local_directory, s3_prefix):\n",
    "    for root, dirs, files in os.walk(local_directory):\n",
    "        for filename in files:\n",
    "            file_path = os.path.join(root, filename)\n",
    "            relative_path = os.path.relpath(file_path, local_directory)\n",
    "            s3_key = os.path.join(s3_prefix, relative_path)\n",
    "            print(f\"{file_path} -> {s3_key}\")\n",
    "            bucket.upload_file(file_path, s3_key)\n",
    "                                \n",
    "def list_objects(prefix):\n",
    "    filter = bucket.objects.filter(Prefix=prefix)\n",
    "    for obj in filter.all():\n",
    "        print(obj.key)"
   ]
  },
  {
   "cell_type": "code",
   "execution_count": null,
   "id": "9a4ce2dd-f335-4ed2-b9d7-d879acb747f9",
   "metadata": {},
   "outputs": [],
   "source": []
  },
  {
   "cell_type": "code",
   "execution_count": 11,
   "id": "3ad5eae7-d994-43d6-a6de-698952a2a583",
   "metadata": {},
   "outputs": [],
   "source": [
    "#Upload the model to an S3 bucket within the cluster"
   ]
  },
  {
   "cell_type": "code",
   "execution_count": 12,
   "id": "1b4f7204-a725-45a3-8308-bba6b0787413",
   "metadata": {},
   "outputs": [
    {
     "name": "stdout",
     "output_type": "stream",
     "text": [
      "/opt/app-root/src/models/granite-embedding-278m-multilingual/README.md -> granite-embedding-278m-multilingual/README.md\n",
      "/opt/app-root/src/models/granite-embedding-278m-multilingual/tokenizer.json -> granite-embedding-278m-multilingual/tokenizer.json\n",
      "/opt/app-root/src/models/granite-embedding-278m-multilingual/pytorch_model.bin -> granite-embedding-278m-multilingual/pytorch_model.bin\n",
      "/opt/app-root/src/models/granite-embedding-278m-multilingual/sentencepiece.bpe.model -> granite-embedding-278m-multilingual/sentencepiece.bpe.model\n",
      "/opt/app-root/src/models/granite-embedding-278m-multilingual/.gitattributes -> granite-embedding-278m-multilingual/.gitattributes\n",
      "/opt/app-root/src/models/granite-embedding-278m-multilingual/tokenizer_config.json -> granite-embedding-278m-multilingual/tokenizer_config.json\n",
      "/opt/app-root/src/models/granite-embedding-278m-multilingual/model.safetensors -> granite-embedding-278m-multilingual/model.safetensors\n",
      "/opt/app-root/src/models/granite-embedding-278m-multilingual/modules.json -> granite-embedding-278m-multilingual/modules.json\n",
      "/opt/app-root/src/models/granite-embedding-278m-multilingual/sentence_bert_config.json -> granite-embedding-278m-multilingual/sentence_bert_config.json\n",
      "/opt/app-root/src/models/granite-embedding-278m-multilingual/special_tokens_map.json -> granite-embedding-278m-multilingual/special_tokens_map.json\n",
      "/opt/app-root/src/models/granite-embedding-278m-multilingual/config.json -> granite-embedding-278m-multilingual/config.json\n",
      "/opt/app-root/src/models/granite-embedding-278m-multilingual/.cache/huggingface/.gitignore -> granite-embedding-278m-multilingual/.cache/huggingface/.gitignore\n",
      "/opt/app-root/src/models/granite-embedding-278m-multilingual/.cache/huggingface/download/sentencepiece.bpe.model.lock -> granite-embedding-278m-multilingual/.cache/huggingface/download/sentencepiece.bpe.model.lock\n",
      "/opt/app-root/src/models/granite-embedding-278m-multilingual/.cache/huggingface/download/config.json.metadata -> granite-embedding-278m-multilingual/.cache/huggingface/download/config.json.metadata\n",
      "/opt/app-root/src/models/granite-embedding-278m-multilingual/.cache/huggingface/download/pytorch_model.bin.lock -> granite-embedding-278m-multilingual/.cache/huggingface/download/pytorch_model.bin.lock\n",
      "/opt/app-root/src/models/granite-embedding-278m-multilingual/.cache/huggingface/download/tokenizer_config.json.lock -> granite-embedding-278m-multilingual/.cache/huggingface/download/tokenizer_config.json.lock\n",
      "/opt/app-root/src/models/granite-embedding-278m-multilingual/.cache/huggingface/download/tokenizer.json.metadata -> granite-embedding-278m-multilingual/.cache/huggingface/download/tokenizer.json.metadata\n",
      "/opt/app-root/src/models/granite-embedding-278m-multilingual/.cache/huggingface/download/special_tokens_map.json.metadata -> granite-embedding-278m-multilingual/.cache/huggingface/download/special_tokens_map.json.metadata\n",
      "/opt/app-root/src/models/granite-embedding-278m-multilingual/.cache/huggingface/download/tokenizer_config.json.metadata -> granite-embedding-278m-multilingual/.cache/huggingface/download/tokenizer_config.json.metadata\n",
      "/opt/app-root/src/models/granite-embedding-278m-multilingual/.cache/huggingface/download/sentencepiece.bpe.model.metadata -> granite-embedding-278m-multilingual/.cache/huggingface/download/sentencepiece.bpe.model.metadata\n",
      "/opt/app-root/src/models/granite-embedding-278m-multilingual/.cache/huggingface/download/sentence_bert_config.json.metadata -> granite-embedding-278m-multilingual/.cache/huggingface/download/sentence_bert_config.json.metadata\n",
      "/opt/app-root/src/models/granite-embedding-278m-multilingual/.cache/huggingface/download/tokenizer.json.lock -> granite-embedding-278m-multilingual/.cache/huggingface/download/tokenizer.json.lock\n",
      "/opt/app-root/src/models/granite-embedding-278m-multilingual/.cache/huggingface/download/modules.json.lock -> granite-embedding-278m-multilingual/.cache/huggingface/download/modules.json.lock\n",
      "/opt/app-root/src/models/granite-embedding-278m-multilingual/.cache/huggingface/download/.gitattributes.lock -> granite-embedding-278m-multilingual/.cache/huggingface/download/.gitattributes.lock\n",
      "/opt/app-root/src/models/granite-embedding-278m-multilingual/.cache/huggingface/download/sentence_bert_config.json.lock -> granite-embedding-278m-multilingual/.cache/huggingface/download/sentence_bert_config.json.lock\n",
      "/opt/app-root/src/models/granite-embedding-278m-multilingual/.cache/huggingface/download/README.md.metadata -> granite-embedding-278m-multilingual/.cache/huggingface/download/README.md.metadata\n",
      "/opt/app-root/src/models/granite-embedding-278m-multilingual/.cache/huggingface/download/model.safetensors.lock -> granite-embedding-278m-multilingual/.cache/huggingface/download/model.safetensors.lock\n",
      "/opt/app-root/src/models/granite-embedding-278m-multilingual/.cache/huggingface/download/pytorch_model.bin.metadata -> granite-embedding-278m-multilingual/.cache/huggingface/download/pytorch_model.bin.metadata\n",
      "/opt/app-root/src/models/granite-embedding-278m-multilingual/.cache/huggingface/download/config.json.lock -> granite-embedding-278m-multilingual/.cache/huggingface/download/config.json.lock\n",
      "/opt/app-root/src/models/granite-embedding-278m-multilingual/.cache/huggingface/download/modules.json.metadata -> granite-embedding-278m-multilingual/.cache/huggingface/download/modules.json.metadata\n",
      "/opt/app-root/src/models/granite-embedding-278m-multilingual/.cache/huggingface/download/model.safetensors.metadata -> granite-embedding-278m-multilingual/.cache/huggingface/download/model.safetensors.metadata\n",
      "/opt/app-root/src/models/granite-embedding-278m-multilingual/.cache/huggingface/download/special_tokens_map.json.lock -> granite-embedding-278m-multilingual/.cache/huggingface/download/special_tokens_map.json.lock\n",
      "/opt/app-root/src/models/granite-embedding-278m-multilingual/.cache/huggingface/download/.gitattributes.metadata -> granite-embedding-278m-multilingual/.cache/huggingface/download/.gitattributes.metadata\n",
      "/opt/app-root/src/models/granite-embedding-278m-multilingual/.cache/huggingface/download/README.md.lock -> granite-embedding-278m-multilingual/.cache/huggingface/download/README.md.lock\n",
      "/opt/app-root/src/models/granite-embedding-278m-multilingual/.cache/huggingface/download/1_Pooling/config.json.metadata -> granite-embedding-278m-multilingual/.cache/huggingface/download/1_Pooling/config.json.metadata\n",
      "/opt/app-root/src/models/granite-embedding-278m-multilingual/.cache/huggingface/download/1_Pooling/config.json.lock -> granite-embedding-278m-multilingual/.cache/huggingface/download/1_Pooling/config.json.lock\n",
      "/opt/app-root/src/models/granite-embedding-278m-multilingual/1_Pooling/config.json -> granite-embedding-278m-multilingual/1_Pooling/config.json\n"
     ]
    }
   ],
   "source": [
    "upload_directory_to_s3(save_path, model_name)"
   ]
  },
  {
   "cell_type": "code",
   "execution_count": null,
   "id": "48d65f6b-38f6-4208-a189-1dd6422b8e15",
   "metadata": {},
   "outputs": [],
   "source": []
  }
 ],
 "metadata": {
  "kernelspec": {
   "display_name": "Python 3.11",
   "language": "python",
   "name": "python3"
  },
  "language_info": {
   "codemirror_mode": {
    "name": "ipython",
    "version": 3
   },
   "file_extension": ".py",
   "mimetype": "text/x-python",
   "name": "python",
   "nbconvert_exporter": "python",
   "pygments_lexer": "ipython3",
   "version": "3.11.7"
  }
 },
 "nbformat": 4,
 "nbformat_minor": 5
}
