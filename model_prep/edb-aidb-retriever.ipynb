{
 "cells": [
  {
   "cell_type": "code",
   "execution_count": 1,
   "id": "d4d4fb25-5673-425b-8475-a388aca15db6",
   "metadata": {},
   "outputs": [],
   "source": [
    "import psycopg2\n",
    "import os"
   ]
  },
  {
   "cell_type": "code",
   "execution_count": 2,
   "id": "c465641c-0759-4df8-9987-6704064afbab",
   "metadata": {},
   "outputs": [],
   "source": [
    "postgres_uri = os.environ.get('URI')"
   ]
  },
  {
   "cell_type": "code",
   "execution_count": 3,
   "id": "ff6ff3ff-565d-4227-8c98-570110f5c39b",
   "metadata": {},
   "outputs": [],
   "source": [
    "def execute_sql(sql):\n",
    "    try:\n",
    "        conn = psycopg2.connect(postgres_uri)\n",
    "        cur = conn.cursor()\n",
    "        cur.execute(sql)\n",
    "        conn.commit()\n",
    "    finally:\n",
    "        if conn is not None:\n",
    "            conn.close()"
   ]
  },
  {
   "cell_type": "code",
   "execution_count": 4,
   "id": "c64050a1-a030-4bab-a2cf-bfb41cabf7f0",
   "metadata": {},
   "outputs": [],
   "source": [
    "def execute_sql_results(sql):\n",
    "    try:\n",
    "        conn = psycopg2.connect(postgres_uri)\n",
    "        cur = conn.cursor()\n",
    "        cur.execute(sql)\n",
    "        rows = cur.fetchall()\n",
    "        return rows\n",
    "    finally:\n",
    "        if conn is not None:\n",
    "            conn.close()"
   ]
  },
  {
   "cell_type": "code",
   "execution_count": 5,
   "id": "a2684e89-6f9b-4a02-842c-8b10dd14a0b5",
   "metadata": {},
   "outputs": [],
   "source": [
    "sql_create_retriever = \"\"\"\n",
    "        select aidb.create_retriever_for_table(\n",
    "        \tname => 'film_retriever',\n",
    "        \tmodel_name => 'bert',\n",
    "        \tsource_table => 'film',\n",
    "            source_data_column => 'description',\n",
    "        \tsource_data_type => 'Text',\n",
    "        \tsource_key_column => 'film_id',\n",
    "        \tdistance_operator => 'Cosine'\n",
    "        )\n",
    "    \"\"\"\n",
    "\n",
    "sql_prime_embeddings = \"select aidb.bulk_embedding('film_retriever')\"\n",
    "\n",
    "sql_enable_auto_embedding = \"select aidb.enable_auto_embedding_for_table('film_retriever')\""
   ]
  },
  {
   "cell_type": "code",
   "execution_count": 6,
   "id": "1ef2834d-9dee-42e7-8456-17bdceb40c1c",
   "metadata": {},
   "outputs": [],
   "source": [
    "execute_sql(sql_create_retriever)\n",
    "execute_sql(sql_prime_embeddings)\n",
    "execute_sql(sql_enable_auto_embedding)"
   ]
  },
  {
   "cell_type": "code",
   "execution_count": 7,
   "id": "c8168a4c-45c1-45c2-84a9-9c31a1caefb5",
   "metadata": {},
   "outputs": [
    {
     "name": "stdout",
     "output_type": "stream",
     "text": [
      "(592, 'Monster Spartacus', 'A Fast-Paced Story of a Waitress And a Cat who must Fight a Girl in Australia', 0.30614852905265544)\n",
      "(384, 'Grosse Wonderful', 'A Epic Drama of a Cat And a Explorer who must Redeem a Moose in Australia', 0.329498132526978)\n",
      "(298, 'Eyes Driving', 'A Thrilling Story of a Cat And a Waitress who must Fight a Explorer in The Outback', 0.38572982209438056)\n",
      "(339, 'Frogmen Breaking', 'A Unbelieveable Yarn of a Mad Scientist And a Cat who must Chase a Lumberjack in Australia', 0.4134015933753584)\n",
      "(157, 'Clockwork Paradise', 'A Insightful Documentary of a Technical Writer And a Feminist who must Challenge a Cat in A Baloon', 0.44302881443147135)\n",
      "(176, 'Congeniality Quest', 'A Touching Documentary of a Cat And a Pastry Chef who must Find a Lumberjack in A Baloon', 0.4532806706240152)\n",
      "(248, 'Dozen Lion', 'A Taut Drama of a Cat And a Girl who must Defeat a Frisbee in The Canadian Rockies', 0.462680426995733)\n",
      "(280, 'Empire Malkovich', 'A Amazing Story of a Feminist And a Cat who must Face a Car in An Abandoned Fun House', 0.466524024761914)\n",
      "(642, 'Order Betrayed', 'A Amazing Saga of a Dog And a A Shark who must Challenge a Cat in The Sahara Desert', 0.46775358530918354)\n",
      "(714, 'Random Go', 'A Fateful Drama of a Frisbee And a Student who must Confront a Cat in A Shark Tank', 0.4754420772985125)\n"
     ]
    }
   ],
   "source": [
    "sql_find_related_film_titles = \"\"\"\n",
    "        select f.film_id, f.title, f.description, rk.distance\n",
    "        from aidb.retrieve_key('film_retriever', 'A movie about cats in Australia', 10) rk\n",
    "        join film f on rk.key::INTEGER = f.film_id\n",
    "        order by 4 asc\n",
    "    \"\"\"\n",
    "\n",
    "rows = execute_sql_results(sql_find_related_film_titles)\n",
    "for row in rows:\n",
    "    print(row)"
   ]
  },
  {
   "cell_type": "code",
   "execution_count": null,
   "id": "f0ca1392-0a4f-4480-b332-f8e6ddc72eaf",
   "metadata": {},
   "outputs": [],
   "source": []
  }
 ],
 "metadata": {
  "kernelspec": {
   "display_name": "Python 3.11",
   "language": "python",
   "name": "python3"
  },
  "language_info": {
   "codemirror_mode": {
    "name": "ipython",
    "version": 3
   },
   "file_extension": ".py",
   "mimetype": "text/x-python",
   "name": "python",
   "nbconvert_exporter": "python",
   "pygments_lexer": "ipython3",
   "version": "3.11.7"
  }
 },
 "nbformat": 4,
 "nbformat_minor": 5
}
