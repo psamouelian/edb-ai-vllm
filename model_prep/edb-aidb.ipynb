{
 "cells": [
  {
   "cell_type": "code",
   "execution_count": null,
   "id": "d4d4fb25-5673-425b-8475-a388aca15db6",
   "metadata": {},
   "outputs": [],
   "source": [
    "import psycopg2\n",
    "import os"
   ]
  },
  {
   "cell_type": "code",
   "execution_count": null,
   "id": "c465641c-0759-4df8-9987-6704064afbab",
   "metadata": {},
   "outputs": [],
   "source": [
    "postgres_uri = os.environ.get('URI')\n",
    "embedding_model_endpoint = os.environ.get(\"embedding_model_endpoint\")"
   ]
  },
  {
   "cell_type": "code",
   "execution_count": null,
   "id": "dc749262-f3f9-4f40-afd7-3cc6b9c69a96",
   "metadata": {},
   "outputs": [],
   "source": []
  },
  {
   "cell_type": "code",
   "execution_count": null,
   "id": "c6dcf567-76b9-4606-90c0-53e4b453517d",
   "metadata": {},
   "outputs": [],
   "source": [
    "def execute_sql(sql):\n",
    "    try:\n",
    "        conn = psycopg2.connect(postgres_uri)\n",
    "        cur = conn.cursor()\n",
    "        cur.execute(sql)\n",
    "        conn.commit()\n",
    "    finally:\n",
    "        if conn is not None:\n",
    "            conn.close()"
   ]
  },
  {
   "cell_type": "code",
   "execution_count": null,
   "id": "ff6ff3ff-565d-4227-8c98-570110f5c39b",
   "metadata": {},
   "outputs": [],
   "source": [
    "def execute_sql_results(sql):\n",
    "    try:\n",
    "        conn = psycopg2.connect(postgres_uri)\n",
    "        cur = conn.cursor()\n",
    "        cur.execute(sql)\n",
    "        rows = cur.fetchall()\n",
    "        return rows\n",
    "    finally:\n",
    "        if conn is not None:\n",
    "            conn.close()"
   ]
  },
  {
   "cell_type": "code",
   "execution_count": null,
   "id": "4705bc2b-f8cd-4637-9e72-ee7e05b57169",
   "metadata": {},
   "outputs": [],
   "source": [
    "sql = 'select film_id, title, description from film limit 10'"
   ]
  },
  {
   "cell_type": "code",
   "execution_count": null,
   "id": "8a5c8f33-6cb0-4f24-87dd-939780ef0644",
   "metadata": {},
   "outputs": [],
   "source": [
    "rows = execute_sql_results(sql)\n",
    "for row in rows:\n",
    "    print(row)"
   ]
  },
  {
   "cell_type": "code",
   "execution_count": null,
   "id": "85b70251-e8ee-4e7f-a92f-7c156e0d4c7a",
   "metadata": {},
   "outputs": [],
   "source": [
    "sql = \"\"\"\n",
    "    select film_id, title, description, 1 - (aidb.encode_text('bert', description)::vector <=>\n",
    "\taidb.encode_text('bert', 'A movie about cats in Australia')::vector) as cosine_similarity_score from film order by 4 desc limit 10\n",
    "    \"\"\""
   ]
  },
  {
   "cell_type": "code",
   "execution_count": null,
   "id": "cdc73397-7c2b-4784-bf16-2a756c9d59fa",
   "metadata": {},
   "outputs": [],
   "source": [
    "rows = execute_sql_results(sql)\n",
    "for row in rows:\n",
    "    print(row)"
   ]
  },
  {
   "cell_type": "code",
   "execution_count": null,
   "id": "39535ef5-8488-497b-801d-30ebb27682d6",
   "metadata": {},
   "outputs": [],
   "source": []
  },
  {
   "cell_type": "code",
   "execution_count": null,
   "id": "a87b94f6-8e28-4496-9939-3727218571ec",
   "metadata": {},
   "outputs": [],
   "source": [
    "sql = f\"\"\"\n",
    "    select aidb.create_model(\n",
    "    'grit-llm',\n",
    "    'embeddings',\n",
    "    '{\"model\":\"grit-llm\", \"url\":{embedding_model_endpoint}, \n",
    "    \"dimensions\":4096}'::JSONB,\n",
    "    '{\"api_key\":\"test\"}'::JSONB);\n",
    "    \"\"\""
   ]
  },
  {
   "cell_type": "code",
   "execution_count": null,
   "id": "bc131890-d4af-4c39-a748-5b7646f2ff28",
   "metadata": {},
   "outputs": [],
   "source": [
    "execute_sql(sql)"
   ]
  },
  {
   "cell_type": "code",
   "execution_count": null,
   "id": "ecea6245-5ac8-40bf-93ff-5ba2323a429a",
   "metadata": {},
   "outputs": [],
   "source": []
  },
  {
   "cell_type": "code",
   "execution_count": null,
   "id": "72233f9a-75e4-4b23-b5e5-1751280adc4b",
   "metadata": {},
   "outputs": [],
   "source": [
    "sql = \"\"\"\n",
    "    select aidb.delete_model('grit-llm');\n",
    "    \"\"\""
   ]
  },
  {
   "cell_type": "code",
   "execution_count": null,
   "id": "2845313b-bbd7-490f-b8b6-e3477366b93d",
   "metadata": {},
   "outputs": [],
   "source": [
    "execute_sql(sql)"
   ]
  },
  {
   "cell_type": "code",
   "execution_count": null,
   "id": "1678541f-badd-49a4-b3e4-b59015b4ae8a",
   "metadata": {},
   "outputs": [],
   "source": []
  },
  {
   "cell_type": "code",
   "execution_count": null,
   "id": "510d5b26-30b0-4669-bd84-c970ffb9385a",
   "metadata": {},
   "outputs": [],
   "source": [
    "sql = \"select aidb.encode_text('grit-llm','I like it');\""
   ]
  },
  {
   "cell_type": "code",
   "execution_count": null,
   "id": "82f499ff-c915-453b-bf26-e0654cc8ea3a",
   "metadata": {},
   "outputs": [],
   "source": [
    "sql = \"\"\"\n",
    "    select film_id, title, description, 1 - (aidb.encode_text('grit-llm', description)::vector <=>\n",
    "\taidb.encode_text('bert', 'A movie about cats in Australia')::vector) as cosine_similarity_score from film order by 4 desc limit 10\n",
    "    \"\"\""
   ]
  },
  {
   "cell_type": "code",
   "execution_count": null,
   "id": "507bd0c3-0cfb-44ac-b62e-3f1ddcee5b67",
   "metadata": {},
   "outputs": [],
   "source": [
    "rows = execute_sql_results(sql)\n",
    "for row in rows:\n",
    "    print(row)"
   ]
  },
  {
   "cell_type": "code",
   "execution_count": null,
   "id": "f18232a1-a8d0-411e-aeeb-45540b836b55",
   "metadata": {},
   "outputs": [],
   "source": []
  },
  {
   "cell_type": "code",
   "execution_count": null,
   "id": "cf3632a5-aefc-4c43-b1da-f6ee14483f2e",
   "metadata": {},
   "outputs": [],
   "source": [
    "sql = \"\"\"\n",
    "    select film_id, title, description, 1 - (aidb.encode_text('bert', description)::vector <=>\n",
    "\taidb.encode_text('bert', 'A movie about cats in Australia')::vector) as cosine_similarity_score from film order by 4 desc limit 10\n",
    "    \"\"\""
   ]
  },
  {
   "cell_type": "code",
   "execution_count": null,
   "id": "2bb7b227-44b4-4b8f-b03c-2272acf42452",
   "metadata": {},
   "outputs": [],
   "source": []
  },
  {
   "cell_type": "code",
   "execution_count": null,
   "id": "d0b8bd93-8cc1-400d-931e-4792e5e64485",
   "metadata": {},
   "outputs": [],
   "source": [
    "#Below is a curl REST example for retrieving an embedding"
   ]
  },
  {
   "cell_type": "code",
   "execution_count": 3,
   "id": "079a05bc-d9ee-401f-9d8f-3e7bb22b06c9",
   "metadata": {},
   "outputs": [],
   "source": [
    "import pycurl\n",
    "import json\n",
    "from io import BytesIO\n",
    "\n",
    "\n",
    "data = {\n",
    "     \"model\": \"grit-llm\",\n",
    "     \"input\": [\"this is a test\"],\n",
    "     \"encoding_format\":\"float\"\n",
    "}\n",
    "\n",
    "post_data = json.dumps(data)\n",
    "headers = ['Content-Type: application/json']\n",
    "buffer = BytesIO()"
   ]
  },
  {
   "cell_type": "code",
   "execution_count": 4,
   "id": "68a45772-e465-470a-99f9-714c92f170d6",
   "metadata": {},
   "outputs": [
    {
     "name": "stdout",
     "output_type": "stream",
     "text": [
      "\n"
     ]
    }
   ],
   "source": [
    "c = pycurl.Curl()\n",
    "\n",
    "c.setopt(c.URL, embedding_model_endpoint)\n",
    "c.setopt(c.POSTFIELDS, post_data)\n",
    "c.setopt(c.HTTPHEADER, headers)\n",
    "c.setopt(c.WRITEDATA, buffer)\n",
    "\n",
    "#c.setopt(pycurl.SSL_VERIFYPEER, 0)\n",
    "#c.setopt(pycurl.SSL_VERIFYHOST, 0)\n",
    "c.perform()\n",
    "c.close()\n",
    "\n",
    "response = buffer.getvalue()\n",
    "\n",
    "result = response.decode('utf-8')\n",
    "print(result[0:1000])"
   ]
  },
  {
   "cell_type": "code",
   "execution_count": null,
   "id": "61d655f0-addc-4103-84b5-21f260a8ebd5",
   "metadata": {},
   "outputs": [],
   "source": []
  }
 ],
 "metadata": {
  "kernelspec": {
   "display_name": "Python 3.11",
   "language": "python",
   "name": "python3"
  },
  "language_info": {
   "codemirror_mode": {
    "name": "ipython",
    "version": 3
   },
   "file_extension": ".py",
   "mimetype": "text/x-python",
   "name": "python",
   "nbconvert_exporter": "python",
   "pygments_lexer": "ipython3",
   "version": "3.11.7"
  }
 },
 "nbformat": 4,
 "nbformat_minor": 5
}
