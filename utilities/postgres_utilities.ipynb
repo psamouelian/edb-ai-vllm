{
 "cells": [
  {
   "cell_type": "code",
   "execution_count": 4,
   "id": "f7a8f930-b446-4376-a1c6-ef29da1a81fc",
   "metadata": {},
   "outputs": [],
   "source": [
    "import psycopg\n",
    "import os"
   ]
  },
  {
   "cell_type": "code",
   "execution_count": 5,
   "id": "fe72148d-7d6b-4cc3-9dd7-d28b8f8dc6ae",
   "metadata": {},
   "outputs": [],
   "source": [
    "postgres_uri = os.environ.get('URI')"
   ]
  },
  {
   "cell_type": "code",
   "execution_count": null,
   "id": "7843bce8-94fc-474b-b6d6-213e524a3dab",
   "metadata": {},
   "outputs": [],
   "source": [
    "conn = None"
   ]
  },
  {
   "cell_type": "code",
   "execution_count": null,
   "id": "8a5abea4-8ae1-4e86-978d-ee305c06b3b7",
   "metadata": {},
   "outputs": [],
   "source": [
    "def connect_db() -> None:\n",
    "    global conn\n",
    "    conn = psycopg.connect(postgres_uri)"
   ]
  },
  {
   "cell_type": "code",
   "execution_count": null,
   "id": "d896fbfc-cd95-495e-8596-99e010e186fd",
   "metadata": {},
   "outputs": [],
   "source": [
    "def close_db() -> None:\n",
    "    conn.close()"
   ]
  },
  {
   "cell_type": "code",
   "execution_count": null,
   "id": "4b30a814-af18-4202-b372-360c02729e4c",
   "metadata": {},
   "outputs": [],
   "source": [
    "def execute_sql(sql):\n",
    "    cur = conn.cursor()\n",
    "    cur.execute(sql)\n",
    "    conn.commit()"
   ]
  },
  {
   "cell_type": "code",
   "execution_count": null,
   "id": "7c4f7e9a-ee01-4bdc-97d3-d1338d3705f5",
   "metadata": {},
   "outputs": [],
   "source": [
    "def execute_sql_results(sql:str) -> list[tuple]:\n",
    "    cur = conn.cursor()\n",
    "    cur.execute(sql, prepare=True)\n",
    "    rows = cur.fetchall()\n",
    "    return rows"
   ]
  },
  {
   "cell_type": "code",
   "execution_count": null,
   "id": "322d2cb7-726b-442d-81db-426c6f0d7fba",
   "metadata": {},
   "outputs": [],
   "source": [
    "def execute_sql_results_params(sql:str, *params) -> list[tuple]:\n",
    "    cur = conn.cursor()\n",
    "    cur.execute(sql, params, prepare=True)\n",
    "    rows = cur.fetchall()\n",
    "    return rows"
   ]
  }
 ],
 "metadata": {
  "kernelspec": {
   "display_name": "Python 3.11",
   "language": "python",
   "name": "python3"
  },
  "language_info": {
   "codemirror_mode": {
    "name": "ipython",
    "version": 3
   },
   "file_extension": ".py",
   "mimetype": "text/x-python",
   "name": "python",
   "nbconvert_exporter": "python",
   "pygments_lexer": "ipython3",
   "version": "3.11.7"
  }
 },
 "nbformat": 4,
 "nbformat_minor": 5
}
