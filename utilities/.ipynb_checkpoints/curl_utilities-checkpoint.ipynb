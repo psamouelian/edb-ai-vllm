{
 "cells": [
  {
   "cell_type": "code",
   "execution_count": null,
   "id": "6368bdbc-5b69-4bee-824f-1e9664bc87fb",
   "metadata": {},
   "outputs": [],
   "source": [
    "import pycurl\n",
    "import json\n",
    "from io import BytesIO"
   ]
  },
  {
   "cell_type": "code",
   "execution_count": null,
   "id": "7453856c-9097-4f7e-b73b-6552a1e69098",
   "metadata": {},
   "outputs": [],
   "source": [
    "c = None\n",
    "endpoint = None"
   ]
  },
  {
   "cell_type": "code",
   "execution_count": null,
   "id": "d695801d-197e-4341-80be-58a903394d70",
   "metadata": {},
   "outputs": [],
   "source": [
    "def curl_setup(endpoint:str) -> None:\n",
    "    global c\n",
    "    c = pycurl.Curl()\n",
    "    c.setopt(c.URL, endpoint)"
   ]
  },
  {
   "cell_type": "code",
   "execution_count": null,
   "id": "0ed98276-ac26-4db1-9973-1f7a8185166d",
   "metadata": {},
   "outputs": [],
   "source": [
    "def curl_close() -> None:\n",
    "    if c is not None:\n",
    "        c.close()"
   ]
  },
  {
   "cell_type": "code",
   "execution_count": null,
   "id": "3226461f-8845-4b52-9cb6-7e777777aa0e",
   "metadata": {},
   "outputs": [],
   "source": [
    "def curl_get_embedding(model_name:str, input:str | list[str], ignore_ssl_verification:bool = False) -> list[float]:\n",
    "\n",
    "    if isinstance(input, str):\n",
    "        input_as_list = [input]\n",
    "    elif isinstance(input, list):\n",
    "        input_as_list = input\n",
    "    else:\n",
    "        raise TypeError(\"Input must be a string or list of strings that represent raw input to be encoded.\")\n",
    "        \n",
    "    data = {\n",
    "     \"model\": model_name,\n",
    "     \"input\": input_as_list,\n",
    "     \"encoding_format\":\"float\"\n",
    "    }\n",
    "\n",
    "    post_data = json.dumps(data)\n",
    "    headers = ['Content-Type: application/json']\n",
    "    buffer = BytesIO()\n",
    "\n",
    "    c.setopt(c.POSTFIELDS, post_data)\n",
    "    c.setopt(c.HTTPHEADER, headers)\n",
    "    c.setopt(c.WRITEDATA, buffer)\n",
    "\n",
    "    if ignore_ssl_verification:\n",
    "        c.setopt(pycurl.SSL_VERIFYPEER, 0)\n",
    "        c.setopt(pycurl.SSL_VERIFYHOST, 0)\n",
    "    \n",
    "    c.perform()\n",
    "    \n",
    "    response = buffer.getvalue()\n",
    "    \n",
    "    result = response.decode('utf-8')\n",
    "    \n",
    "    #print(result[0:1000])b\n",
    "\n",
    "    embeddings = json.loads(result)\n",
    "\n",
    "    result = list()\n",
    "\n",
    "    for e in embeddings['data']:\n",
    "        result.append(e['embedding'])\n",
    "    \n",
    "    return result"
   ]
  }
 ],
 "metadata": {
  "kernelspec": {
   "display_name": "Python 3.11",
   "language": "python",
   "name": "python3"
  },
  "language_info": {
   "codemirror_mode": {
    "name": "ipython",
    "version": 3
   },
   "file_extension": ".py",
   "mimetype": "text/x-python",
   "name": "python",
   "nbconvert_exporter": "python",
   "pygments_lexer": "ipython3",
   "version": "3.11.7"
  }
 },
 "nbformat": 4,
 "nbformat_minor": 5
}
