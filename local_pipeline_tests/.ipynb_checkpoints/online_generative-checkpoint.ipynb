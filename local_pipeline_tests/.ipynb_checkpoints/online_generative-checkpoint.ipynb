{
 "cells": [
  {
   "cell_type": "code",
   "execution_count": 1,
   "id": "a5cffb88-53dc-4022-9137-b30765c511e2",
   "metadata": {},
   "outputs": [],
   "source": [
    "import os, time, torch"
   ]
  },
  {
   "cell_type": "code",
   "execution_count": 2,
   "id": "ebf38a75-e96d-4679-a0c2-f3928f63cc29",
   "metadata": {},
   "outputs": [],
   "source": [
    "%run ../utilities/curl_utilities.ipynb\n",
    "%run ../utilities/postgres_utilities.ipynb"
   ]
  },
  {
   "cell_type": "code",
   "execution_count": 3,
   "id": "65c191b1-0bae-463b-b66e-389164f2631a",
   "metadata": {},
   "outputs": [],
   "source": [
    "model_name = \"GritLM/GritLM-7B\"\n",
    "number_data_rows = 100"
   ]
  },
  {
   "cell_type": "code",
   "execution_count": 7,
   "id": "a843f7e6-1be7-4a14-b9ef-dad4d9702a88",
   "metadata": {},
   "outputs": [],
   "source": [
    "connect_db()"
   ]
  },
  {
   "cell_type": "code",
   "execution_count": 4,
   "id": "8297fb66-4e3d-49b4-a82c-164c09d43505",
   "metadata": {},
   "outputs": [
    {
     "name": "stderr",
     "output_type": "stream",
     "text": [
      "/opt/app-root/lib64/python3.11/site-packages/tqdm/auto.py:21: TqdmWarning: IProgress not found. Please update jupyter and ipywidgets. See https://ipywidgets.readthedocs.io/en/stable/user_install.html\n",
      "  from .autonotebook import tqdm as notebook_tqdm\n",
      "Loading checkpoint shards: 100%|██████████| 3/3 [01:07<00:00, 22.59s/it]\n",
      "Device set to use cuda:0\n"
     ]
    }
   ],
   "source": [
    "# Use a pipeline as a high-level helper\n",
    "from transformers import pipeline\n",
    "\n",
    "#Note that model will not load without reducing precision to float16\n",
    "pipe = pipeline(\"text-generation\", model=model_name, trust_remote_code=False, torch_dtype=torch.float16)"
   ]
  },
  {
   "cell_type": "code",
   "execution_count": null,
   "id": "2879e991-774f-4e00-9b11-0a5f36d8536d",
   "metadata": {},
   "outputs": [],
   "source": []
  },
  {
   "cell_type": "code",
   "execution_count": 8,
   "id": "6039eddb-8331-46a5-bc28-90db1ab403ea",
   "metadata": {},
   "outputs": [],
   "source": [
    "sql = f\"select description from film limit {number_data_rows}\"\n",
    "film_descriptions = execute_sql_results(sql)"
   ]
  },
  {
   "cell_type": "code",
   "execution_count": null,
   "id": "e440c16b-a5d1-42cd-9ec2-76c04d1466f1",
   "metadata": {},
   "outputs": [],
   "source": []
  },
  {
   "cell_type": "code",
   "execution_count": 10,
   "id": "e5d8cfb2-03ef-49e0-95e5-585bcb38a063",
   "metadata": {},
   "outputs": [
    {
     "data": {
      "text/plain": [
       "[{'generated_text': [{'role': 'user',\n",
       "    'content': 'Expand this movie description: A fateful story of a dog and a wombat who must wrestle a lion.'},\n",
       "   {'role': 'assistant',\n",
       "    'content': '\"A Fateful Story of a Dog and a Wombat Who Must Wrestle a Lion\" is a heartwarming and action-packed adventure film that tells the tale of two unlikely friends who must come together to save their home and their lives.\\n\\nThe story begins with a young dog'}]}]"
      ]
     },
     "execution_count": 10,
     "metadata": {},
     "output_type": "execute_result"
    }
   ],
   "source": [
    "messages = [\n",
    "    {\"role\": \"user\", \"content\": \"Expand this movie description: A fateful story of a dog and a wombat who must wrestle a lion.\"},\n",
    "]\n",
    "\n",
    "results = pipe(messages, max_length=100)\n",
    "results"
   ]
  },
  {
   "cell_type": "code",
   "execution_count": 11,
   "id": "ce8e28fd-9761-4a5b-9774-ee9fac60f09f",
   "metadata": {},
   "outputs": [
    {
     "name": "stdout",
     "output_type": "stream",
     "text": [
      "Starting online generative test using local model\n",
      "-------------------------------------------------\n",
      "Texts generated ... 0 "
     ]
    },
    {
     "name": "stderr",
     "output_type": "stream",
     "text": [
      "You seem to be using the pipelines sequentially on GPU. In order to maximize efficiency please use a dataset\n"
     ]
    },
    {
     "name": "stdout",
     "output_type": "stream",
     "text": [
      "25 50 75 100 \n",
      "Time to generate text for 100 rows: 182.3374 seconds\n",
      "-------------------------------------------------\n"
     ]
    }
   ],
   "source": [
    "test_description = \"Starting online generative test using local model\"\n",
    "print(test_description)\n",
    "print(len(test_description) * \"-\") \n",
    "question_response_pairs = list()\n",
    "tic = time.perf_counter()\n",
    "print(\"Texts generated ...\", end=\" \")\n",
    "\n",
    "#Setup template for prompt\n",
    "messages = [\n",
    "    {\"role\": \"user\", \"content\": \"\"},\n",
    "]\n",
    "\n",
    "generated_tokens_running_total = 0\n",
    "for index, film in enumerate(film_descriptions):\n",
    "    description = film[0]\n",
    "\n",
    "    #messages[0]['content'] = f\"Who are the main characters in this sentence: {description}\"\n",
    "    messages[0]['content'] = f\"Expand this movie description: {description}\"\n",
    "\n",
    "    response = pipe(messages, max_new_tokens=50)\n",
    "    generated_text = response[0]['generated_text'][1]['content']\n",
    "    assert len(generated_text) > 0\n",
    "\n",
    "    question_response_pairs.append(f\"{messages[0]['content']}:{generated_text}\")\n",
    "\n",
    "    if index % 25 == 0:\n",
    "        print(f\"{index}\", end=\" \")\n",
    "\n",
    "assert len(question_response_pairs) == number_data_rows\n",
    "print(f\"{index+1}\", end=\" \")\n",
    "toc = time.perf_counter()\n",
    "print(\"\")\n",
    "print(f\"Time to generate text for {number_data_rows} rows: {toc - tic:0.4f} seconds\")\n",
    "print(len(test_description) * \"-\") "
   ]
  },
  {
   "cell_type": "code",
   "execution_count": 12,
   "id": "149c1518-bc75-4a17-b7ab-3f2b3db6b540",
   "metadata": {},
   "outputs": [],
   "source": [
    "close_db()"
   ]
  },
  {
   "cell_type": "code",
   "execution_count": null,
   "id": "3f64a819-fac6-4960-bd34-1522ed17fc94",
   "metadata": {},
   "outputs": [],
   "source": []
  }
 ],
 "metadata": {
  "kernelspec": {
   "display_name": "Python 3.11",
   "language": "python",
   "name": "python3"
  },
  "language_info": {
   "codemirror_mode": {
    "name": "ipython",
    "version": 3
   },
   "file_extension": ".py",
   "mimetype": "text/x-python",
   "name": "python",
   "nbconvert_exporter": "python",
   "pygments_lexer": "ipython3",
   "version": "3.11.7"
  }
 },
 "nbformat": 4,
 "nbformat_minor": 5
}
