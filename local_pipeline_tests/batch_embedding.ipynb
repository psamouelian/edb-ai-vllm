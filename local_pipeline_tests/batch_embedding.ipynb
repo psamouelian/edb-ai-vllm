{
 "cells": [
  {
   "cell_type": "code",
   "execution_count": 1,
   "id": "a5cffb88-53dc-4022-9137-b30765c511e2",
   "metadata": {},
   "outputs": [],
   "source": [
    "import os, time"
   ]
  },
  {
   "cell_type": "code",
   "execution_count": 2,
   "id": "0e122506-1509-4ca0-a15a-7e17a9664937",
   "metadata": {},
   "outputs": [],
   "source": [
    "%run ../utilities/curl_utilities.ipynb\n",
    "%run ../utilities/postgres_utilities.ipynb"
   ]
  },
  {
   "cell_type": "code",
   "execution_count": 3,
   "id": "65c191b1-0bae-463b-b66e-389164f2631a",
   "metadata": {},
   "outputs": [],
   "source": [
    "model_name = \"GritLM/GritLM-7B\"\n",
    "number_data_rows = 1000"
   ]
  },
  {
   "cell_type": "code",
   "execution_count": 4,
   "id": "8297fb66-4e3d-49b4-a82c-164c09d43505",
   "metadata": {},
   "outputs": [],
   "source": [
    "connect_db()"
   ]
  },
  {
   "cell_type": "code",
   "execution_count": 5,
   "id": "77f8c506-4375-4d5a-8aed-f71181d2ba65",
   "metadata": {},
   "outputs": [],
   "source": [
    "batch_size = 256"
   ]
  },
  {
   "cell_type": "code",
   "execution_count": 6,
   "id": "18cf677e-8372-4fc6-b778-831f898cdc23",
   "metadata": {},
   "outputs": [
    {
     "name": "stderr",
     "output_type": "stream",
     "text": [
      "/opt/app-root/lib64/python3.11/site-packages/tqdm/auto.py:21: TqdmWarning: IProgress not found. Please update jupyter and ipywidgets. See https://ipywidgets.readthedocs.io/en/stable/user_install.html\n",
      "  from .autonotebook import tqdm as notebook_tqdm\n",
      "Loading checkpoint shards: 100%|██████████| 3/3 [00:00<00:00,  7.25it/s]\n",
      "Device set to use cuda:0\n"
     ]
    }
   ],
   "source": [
    "# Use a pipeline as a high-level helper\n",
    "from transformers import pipeline\n",
    "\n",
    "pipe = pipeline(\"feature-extraction\", model=model_name, trust_remote_code=True, torch_dtype=\"auto\", \n",
    "                low_cpu_mem_usage=True, batch_size=batch_size)"
   ]
  },
  {
   "cell_type": "code",
   "execution_count": null,
   "id": "2879e991-774f-4e00-9b11-0a5f36d8536d",
   "metadata": {},
   "outputs": [],
   "source": []
  },
  {
   "cell_type": "code",
   "execution_count": 7,
   "id": "6039eddb-8331-46a5-bc28-90db1ab403ea",
   "metadata": {},
   "outputs": [],
   "source": [
    "sql = f\"select description from film limit {number_data_rows}\"\n",
    "results = execute_sql_results(sql)"
   ]
  },
  {
   "cell_type": "code",
   "execution_count": null,
   "id": "e5d8cfb2-03ef-49e0-95e5-585bcb38a063",
   "metadata": {},
   "outputs": [],
   "source": []
  },
  {
   "cell_type": "code",
   "execution_count": 8,
   "id": "d20ef999-3e36-44a9-95c6-b0b37218c460",
   "metadata": {},
   "outputs": [
    {
     "name": "stdout",
     "output_type": "stream",
     "text": [
      "Starting batch embedding test using local model\n",
      "-----------------------------------------------\n",
      "Embeddings computed ... 0 256 256 512 512 768 768 1000 \n",
      "Time to compute 1000 embeddings: 16.2847 seconds\n",
      "-----------------------------------------------\n"
     ]
    }
   ],
   "source": [
    "test_description = \"Starting batch embedding test using local model\"\n",
    "print(test_description)\n",
    "print(len(test_description) * \"-\") \n",
    "tic = time.perf_counter()\n",
    "print(\"Embeddings computed ...\", end=\" \")\n",
    "descriptions = list()\n",
    "for index, film in enumerate(results):\n",
    "    descriptions.append(film[0])\n",
    "\n",
    "start_offset = 0\n",
    "end_offset = batch_size\n",
    "embeddings = list()\n",
    "while start_offset < number_data_rows:\n",
    "    print(start_offset, end_offset, end=\" \")\n",
    "    embeddings = embeddings + pipe(descriptions[start_offset:end_offset])\n",
    "    start_offset = end_offset\n",
    "    end_offset = end_offset + batch_size\n",
    "    if end_offset > number_data_rows:\n",
    "        end_offset = number_data_rows\n",
    "\n",
    "assert len(embeddings) == index+1\n",
    "for e in embeddings[0][0]:\n",
    "    assert(len(e) == 4096)\n",
    "\n",
    "toc = time.perf_counter()\n",
    "print(\"\")\n",
    "print(f\"Time to compute {number_data_rows} embeddings: {toc - tic:0.4f} seconds\")\n",
    "print(len(test_description) * \"-\") "
   ]
  },
  {
   "cell_type": "code",
   "execution_count": 9,
   "id": "38673fc1-a8d0-4de1-b6e1-26402f1b3447",
   "metadata": {},
   "outputs": [],
   "source": [
    "close_db()"
   ]
  }
 ],
 "metadata": {
  "kernelspec": {
   "display_name": "Python 3.11",
   "language": "python",
   "name": "python3"
  },
  "language_info": {
   "codemirror_mode": {
    "name": "ipython",
    "version": 3
   },
   "file_extension": ".py",
   "mimetype": "text/x-python",
   "name": "python",
   "nbconvert_exporter": "python",
   "pygments_lexer": "ipython3",
   "version": "3.11.7"
  }
 },
 "nbformat": 4,
 "nbformat_minor": 5
}
