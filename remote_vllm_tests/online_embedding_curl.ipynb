{
 "cells": [
  {
   "cell_type": "code",
   "execution_count": 1,
   "id": "e78f0b5c-9542-4bed-89c8-98bbcff022a0",
   "metadata": {},
   "outputs": [],
   "source": [
    "import os, time"
   ]
  },
  {
   "cell_type": "code",
   "execution_count": 2,
   "id": "dff2b369-acdd-4eaa-b4d7-589542af24a3",
   "metadata": {},
   "outputs": [],
   "source": [
    "%run ../utilities/curl_utilities.ipynb\n",
    "%run ../utilities/postgres_utilities.ipynb"
   ]
  },
  {
   "cell_type": "code",
   "execution_count": 3,
   "id": "2fed6c7f-7f8e-47d8-af7e-d803bf4100d8",
   "metadata": {},
   "outputs": [],
   "source": [
    "embedding_model_endpoint = os.environ.get('embedding_model_endpoint')\n",
    "model_name = 'grit-llm'\n",
    "number_data_rows = 1000"
   ]
  },
  {
   "cell_type": "code",
   "execution_count": 7,
   "id": "ec200683-fb3a-479a-8e71-56277c6dbffc",
   "metadata": {},
   "outputs": [],
   "source": [
    "#Evaluate baseline (direct REST calls to vllm) for online use case"
   ]
  },
  {
   "cell_type": "code",
   "execution_count": 8,
   "id": "92228227-5c94-4138-a8d0-651035012939",
   "metadata": {},
   "outputs": [],
   "source": [
    "curl_setup(embedding_endpoint)\n",
    "connect_db()"
   ]
  },
  {
   "cell_type": "code",
   "execution_count": 9,
   "id": "87554c5f-b14f-4c9c-97a2-f0f887fe6485",
   "metadata": {},
   "outputs": [],
   "source": [
    "#Compute time for 1k embeddings"
   ]
  },
  {
   "cell_type": "code",
   "execution_count": 10,
   "id": "328b8f5d-3170-4dea-8d26-13d3bef2daca",
   "metadata": {},
   "outputs": [],
   "source": [
    "sql = f\"select description from film limit {number_data_rows}\"\n",
    "results = execute_sql_results(sql)"
   ]
  },
  {
   "cell_type": "code",
   "execution_count": 11,
   "id": "6500bc9a-a3eb-4772-9111-c8961682010e",
   "metadata": {},
   "outputs": [
    {
     "name": "stdout",
     "output_type": "stream",
     "text": [
      "Starting online embedding test using curl and default vllm configuration\n",
      "------------------------------------------------------------------------\n",
      "Embeddings computed ... 0 100 200 300 400 500 600 700 800 900 1000\n",
      "Time to compute 1000 embeddings: 44.5143 seconds\n",
      "------------------------------------------------------------------------\n"
     ]
    }
   ],
   "source": [
    "test_description = \"Starting online embedding test using curl and default vllm configuration\"\n",
    "print(test_description)\n",
    "print(len(test_description) * \"-\") \n",
    "tic = time.perf_counter()\n",
    "print(\"Embeddings computed ...\", end=\" \")\n",
    "for index, film in enumerate(results):\n",
    "    description = film[0]\n",
    "    embedding = curl_get_embedding(model_name, description)[0]\n",
    "    assert len(embedding) == 4096\n",
    "    if index % 100 == 0:\n",
    "        print(f\"{index}\", end=\" \")\n",
    "toc = time.perf_counter()\n",
    "print(f\"{index+1}\")\n",
    "print(f\"Time to compute {number_data_rows} embeddings: {toc - tic:0.4f} seconds\")\n",
    "print(len(test_description) * \"-\") \n",
    "curl_close()"
   ]
  },
  {
   "cell_type": "code",
   "execution_count": null,
   "id": "3b32811e-9648-43e9-85ab-66fb42282d84",
   "metadata": {},
   "outputs": [],
   "source": [
    "close_db()"
   ]
  }
 ],
 "metadata": {
  "kernelspec": {
   "display_name": "Python 3.11",
   "language": "python",
   "name": "python3"
  },
  "language_info": {
   "codemirror_mode": {
    "name": "ipython",
    "version": 3
   },
   "file_extension": ".py",
   "mimetype": "text/x-python",
   "name": "python",
   "nbconvert_exporter": "python",
   "pygments_lexer": "ipython3",
   "version": "3.11.7"
  }
 },
 "nbformat": 4,
 "nbformat_minor": 5
}
