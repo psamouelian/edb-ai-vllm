{
 "cells": [
  {
   "cell_type": "code",
   "execution_count": 1,
   "id": "e78f0b5c-9542-4bed-89c8-98bbcff022a0",
   "metadata": {},
   "outputs": [],
   "source": [
    "import os, time"
   ]
  },
  {
   "cell_type": "code",
   "execution_count": 2,
   "id": "dff2b369-acdd-4eaa-b4d7-589542af24a3",
   "metadata": {},
   "outputs": [],
   "source": [
    "%run ../utilities/postgres_utilities.ipynb"
   ]
  },
  {
   "cell_type": "code",
   "execution_count": null,
   "id": "f5cff612-26c8-4e01-8f81-2fc518223710",
   "metadata": {},
   "outputs": [],
   "source": []
  },
  {
   "cell_type": "code",
   "execution_count": 3,
   "id": "2fed6c7f-7f8e-47d8-af7e-d803bf4100d8",
   "metadata": {},
   "outputs": [],
   "source": [
    "#embedding_endpoint =  os.environ.get('embedding_model_endpoint')\n",
    "model_endpoint =  'https://llama-31-8b-instruct-samouelian-edb-ai.apps.ai-dev01.kni.syseng.devcluster.openshift.com/v1/chat/completions'\n",
    "model_name = 'Llama-31-8b-instruct'\n",
    "number_data_rows = 100"
   ]
  },
  {
   "cell_type": "code",
   "execution_count": 4,
   "id": "e025b29e-d031-4732-8141-bd285c1d4ce8",
   "metadata": {},
   "outputs": [],
   "source": [
    "connect_db()"
   ]
  },
  {
   "cell_type": "code",
   "execution_count": 5,
   "id": "110b2af6-8f1e-495b-bb7a-7bb55037da70",
   "metadata": {},
   "outputs": [],
   "source": [
    "sql = \"\"\"\n",
    "    select aidb.delete_model('llama-model');\n",
    "    \"\"\""
   ]
  },
  {
   "cell_type": "code",
   "execution_count": 6,
   "id": "c0c25e4d-1ea7-4858-96de-8f73681b0582",
   "metadata": {},
   "outputs": [],
   "source": [
    "execute_sql(sql)"
   ]
  },
  {
   "cell_type": "code",
   "execution_count": null,
   "id": "5759824a-1d6f-452c-be75-dc0de120222f",
   "metadata": {},
   "outputs": [],
   "source": []
  },
  {
   "cell_type": "code",
   "execution_count": 7,
   "id": "b4f9532b-fb1b-4ded-ab1a-9ecb9a7a667d",
   "metadata": {},
   "outputs": [],
   "source": [
    "sql = f\"\"\"\n",
    "    select aidb.create_model(\n",
    "    'llama-model',\n",
    "    'openai_completions',\n",
    "    '{{\"model\":\"llama-31-8b-instruct\", \"url\":\"{model_endpoint}\", \n",
    "    \"dimensions\":8096}}'::JSONB,\n",
    "    '{{\"api_key\":\"\"}}'::JSONB);\n",
    "    \"\"\""
   ]
  },
  {
   "cell_type": "code",
   "execution_count": 8,
   "id": "9f330c72-70df-4a05-b267-d2051419a058",
   "metadata": {},
   "outputs": [],
   "source": [
    "execute_sql(sql)"
   ]
  },
  {
   "cell_type": "code",
   "execution_count": 9,
   "id": "87554c5f-b14f-4c9c-97a2-f0f887fe6485",
   "metadata": {},
   "outputs": [],
   "source": [
    "#Compute time for 1k embeddings"
   ]
  },
  {
   "cell_type": "code",
   "execution_count": 10,
   "id": "328b8f5d-3170-4dea-8d26-13d3bef2daca",
   "metadata": {},
   "outputs": [],
   "source": [
    "sql = f\"select description from film limit {number_data_rows}\"\n",
    "results = execute_sql_results(sql)"
   ]
  },
  {
   "cell_type": "code",
   "execution_count": null,
   "id": "81372134-6ecc-441a-a6c6-71eceea01f8a",
   "metadata": {},
   "outputs": [],
   "source": []
  },
  {
   "cell_type": "code",
   "execution_count": 11,
   "id": "d7457021-cac1-44c8-ade6-0a14b94dde19",
   "metadata": {},
   "outputs": [],
   "source": [
    "encode_text_sql = \"select aidb.decode_text('llama-model', %s)\""
   ]
  },
  {
   "cell_type": "code",
   "execution_count": 14,
   "id": "6500bc9a-a3eb-4772-9111-c8961682010e",
   "metadata": {},
   "outputs": [
    {
     "name": "stdout",
     "output_type": "stream",
     "text": [
      "Starting online generation test using edb and default vllm configuration\n",
      "------------------------------------------------------------------------\n",
      "Text output generated ... 0 3\n",
      "Time to compute 3 text generation tasks: 26.8923 seconds\n",
      "------------------------------------------------------------------------\n"
     ]
    }
   ],
   "source": [
    "question_response_pairs = list()\n",
    "test_description = \"Starting online generation test using edb and default vllm configuration\"\n",
    "print(test_description)\n",
    "print(len(test_description) * \"-\") \n",
    "tic = time.perf_counter()\n",
    "print(\"Text output generated ...\", end=\" \")\n",
    "for index, film in enumerate(results):\n",
    "    description = f\"Briefly expand this movie description: {film[0]}\"\n",
    "    generated_text = execute_sql_results_params(encode_text_sql, description)\n",
    "    question_response_pairs.append(f\"{description}:{generated_text}\")\n",
    "    if index % 100 == 0:\n",
    "        print(f\"{index}\", end=\" \")\n",
    "toc = time.perf_counter()\n",
    "print(f\"{index+1}\")\n",
    "print(f\"Time to compute {number_data_rows} text generation tasks: {toc - tic:0.4f} seconds\")\n",
    "print(len(test_description) * \"-\")"
   ]
  },
  {
   "cell_type": "code",
   "execution_count": null,
   "id": "9ac28706-e790-40bb-89dc-883627f0355f",
   "metadata": {},
   "outputs": [],
   "source": []
  },
  {
   "cell_type": "code",
   "execution_count": null,
   "id": "bb8a1dfb-87dd-47d2-b7df-24ab9b94d53b",
   "metadata": {},
   "outputs": [],
   "source": [
    "close_db()"
   ]
  },
  {
   "cell_type": "code",
   "execution_count": null,
   "id": "be9e2a17-8873-4178-8116-3f061f7f36f9",
   "metadata": {},
   "outputs": [],
   "source": []
  }
 ],
 "metadata": {
  "kernelspec": {
   "display_name": "Python 3.11",
   "language": "python",
   "name": "python3"
  },
  "language_info": {
   "codemirror_mode": {
    "name": "ipython",
    "version": 3
   },
   "file_extension": ".py",
   "mimetype": "text/x-python",
   "name": "python",
   "nbconvert_exporter": "python",
   "pygments_lexer": "ipython3",
   "version": "3.11.7"
  }
 },
 "nbformat": 4,
 "nbformat_minor": 5
}
