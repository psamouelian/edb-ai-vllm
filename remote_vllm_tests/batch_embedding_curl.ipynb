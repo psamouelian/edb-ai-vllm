{
 "cells": [
  {
   "cell_type": "code",
   "execution_count": 1,
   "id": "a8831026-6928-4e65-a306-b8341ea47847",
   "metadata": {},
   "outputs": [],
   "source": [
    "import os, time"
   ]
  },
  {
   "cell_type": "code",
   "execution_count": 2,
   "id": "8d18b1f5-2e03-43d5-9703-31efeab185ef",
   "metadata": {},
   "outputs": [],
   "source": [
    "%run ../utilities/curl_utilities.ipynb\n",
    "%run ../utilities/postgres_utilities.ipynb"
   ]
  },
  {
   "cell_type": "code",
   "execution_count": 3,
   "id": "66c8e600-5434-48ab-923d-0e30ef70cd73",
   "metadata": {},
   "outputs": [],
   "source": [
    "embedding_endpoint = 'https://grit-llm-samouelian-edb-ai.apps.ai-dev01.kni.syseng.devcluster.openshift.com/v1/embeddings'\n",
    "model_name = 'grit-llm'\n",
    "number_data_rows = 1000"
   ]
  },
  {
   "cell_type": "code",
   "execution_count": null,
   "id": "72ca0d2b-e092-4bbd-8641-9ccc6d5f2bcd",
   "metadata": {},
   "outputs": [],
   "source": []
  },
  {
   "cell_type": "code",
   "execution_count": 4,
   "id": "7b174170-0f0f-4289-8ff5-e659df3eac64",
   "metadata": {},
   "outputs": [],
   "source": [
    "#Evaluate baseline (direct REST calls to vllm) for non-batch use case"
   ]
  },
  {
   "cell_type": "code",
   "execution_count": 5,
   "id": "2b9480e1-38c1-4499-9b78-abd51b1831ee",
   "metadata": {},
   "outputs": [],
   "source": [
    "curl_setup(embedding_endpoint)\n",
    "connect_db()"
   ]
  },
  {
   "cell_type": "code",
   "execution_count": 6,
   "id": "daa1b791-77f1-4dfb-b7e2-d30aaa2bcba3",
   "metadata": {},
   "outputs": [],
   "source": [
    "#Compute time for 1k embeddings"
   ]
  },
  {
   "cell_type": "code",
   "execution_count": 7,
   "id": "e999e619-7b02-4245-9b1d-e4a91fd327d9",
   "metadata": {},
   "outputs": [],
   "source": [
    "sql = f\"select description from film limit {number_data_rows}\"\n",
    "results = execute_sql_results(sql)"
   ]
  },
  {
   "cell_type": "code",
   "execution_count": 8,
   "id": "b3887bdc-61ec-48ab-a27a-1340ea04f2e8",
   "metadata": {},
   "outputs": [
    {
     "name": "stdout",
     "output_type": "stream",
     "text": [
      "Starting batch embedding test using remote vllm model with curl\n",
      "---------------------------------------------------------------\n",
      "Embeddings computed ... 0 1000 \n",
      "Time to compute 1000 embeddings: 9.8557 seconds\n",
      "---------------------------------------------------------------\n"
     ]
    }
   ],
   "source": [
    "test_description = \"Starting batch embedding test using remote vllm model with curl\"\n",
    "print(test_description)\n",
    "print(len(test_description) * \"-\") \n",
    "tic = time.perf_counter()\n",
    "print(\"Embeddings computed ...\", end=\" \")\n",
    "descriptions = list()\n",
    "for index, film in enumerate(results):\n",
    "    descriptions.append(film[0])\n",
    "\n",
    "batch_size = 1000\n",
    "start_offset = 0\n",
    "end_offset = batch_size\n",
    "embeddings = list()\n",
    "while start_offset < number_data_rows:\n",
    "    print(start_offset, end_offset, end=\" \")\n",
    "    embeddings = embeddings + curl_get_embedding(model_name, descriptions[start_offset:end_offset])\n",
    "    start_offset = end_offset\n",
    "    end_offset = end_offset + batch_size\n",
    "    if end_offset > number_data_rows:\n",
    "        end_offset = number_data_rows\n",
    "\n",
    "assert len(embeddings) == index+1\n",
    "for e in embeddings:\n",
    "    assert(len(e) == 4096)\n",
    "\n",
    "toc = time.perf_counter()\n",
    "print(\"\")\n",
    "print(f\"Time to compute {number_data_rows} embeddings: {toc - tic:0.4f} seconds\")\n",
    "print(len(test_description) * \"-\") "
   ]
  },
  {
   "cell_type": "code",
   "execution_count": null,
   "id": "65667594-7b67-4474-bc03-86ba00b63602",
   "metadata": {},
   "outputs": [],
   "source": [
    "close_db()"
   ]
  }
 ],
 "metadata": {
  "kernelspec": {
   "display_name": "Python 3.11",
   "language": "python",
   "name": "python3"
  },
  "language_info": {
   "codemirror_mode": {
    "name": "ipython",
    "version": 3
   },
   "file_extension": ".py",
   "mimetype": "text/x-python",
   "name": "python",
   "nbconvert_exporter": "python",
   "pygments_lexer": "ipython3",
   "version": "3.11.7"
  }
 },
 "nbformat": 4,
 "nbformat_minor": 5
}
