{
 "cells": [
  {
   "cell_type": "code",
   "execution_count": 1,
   "id": "e78f0b5c-9542-4bed-89c8-98bbcff022a0",
   "metadata": {},
   "outputs": [],
   "source": [
    "import os, time"
   ]
  },
  {
   "cell_type": "code",
   "execution_count": 2,
   "id": "dff2b369-acdd-4eaa-b4d7-589542af24a3",
   "metadata": {},
   "outputs": [],
   "source": [
    "%run ./postgres_utilities.ipynb"
   ]
  },
  {
   "cell_type": "code",
   "execution_count": 3,
   "id": "2fed6c7f-7f8e-47d8-af7e-d803bf4100d8",
   "metadata": {},
   "outputs": [],
   "source": [
    "embedding_endpoint =  os.environ.get('embedding_model_endpoint')\n",
    "model_name = 'grit-llm'\n",
    "number_data_rows = 1000"
   ]
  },
  {
   "cell_type": "code",
   "execution_count": null,
   "id": "127cb2ec-3d8c-453a-aac9-ece88464d9c5",
   "metadata": {},
   "outputs": [],
   "source": []
  },
  {
   "cell_type": "code",
   "execution_count": 4,
   "id": "59c5f5d5-5ed6-4781-8221-4fd075678399",
   "metadata": {},
   "outputs": [],
   "source": [
    "connect_db()"
   ]
  },
  {
   "cell_type": "code",
   "execution_count": 5,
   "id": "110b2af6-8f1e-495b-bb7a-7bb55037da70",
   "metadata": {},
   "outputs": [],
   "source": [
    "sql = \"\"\"\n",
    "    select aidb.delete_model('grit-llm');\n",
    "    \"\"\""
   ]
  },
  {
   "cell_type": "code",
   "execution_count": 6,
   "id": "c0c25e4d-1ea7-4858-96de-8f73681b0582",
   "metadata": {},
   "outputs": [],
   "source": [
    "execute_sql(sql)"
   ]
  },
  {
   "cell_type": "code",
   "execution_count": 7,
   "id": "b4f9532b-fb1b-4ded-ab1a-9ecb9a7a667d",
   "metadata": {},
   "outputs": [],
   "source": [
    "sql = f\"\"\"\n",
    "    select aidb.create_model(\n",
    "    'grit-llm',\n",
    "    'embeddings',\n",
    "    '{{\"model\":\"grit-llm\", \"url\":\"{embedding_endpoint}\", \n",
    "    \"dimensions\":4096}}'::JSONB,\n",
    "    '{{\"api_key\":\"\"}}'::JSONB);\n",
    "    \"\"\""
   ]
  },
  {
   "cell_type": "code",
   "execution_count": 8,
   "id": "9f330c72-70df-4a05-b267-d2051419a058",
   "metadata": {},
   "outputs": [],
   "source": [
    "execute_sql(sql)"
   ]
  },
  {
   "cell_type": "code",
   "execution_count": null,
   "id": "baa5fc18-a40f-4dba-8f7c-3c65f09a3dc1",
   "metadata": {},
   "outputs": [],
   "source": []
  },
  {
   "cell_type": "code",
   "execution_count": 9,
   "id": "87554c5f-b14f-4c9c-97a2-f0f887fe6485",
   "metadata": {},
   "outputs": [],
   "source": [
    "#Compute time for 1k embeddings"
   ]
  },
  {
   "cell_type": "code",
   "execution_count": 10,
   "id": "328b8f5d-3170-4dea-8d26-13d3bef2daca",
   "metadata": {},
   "outputs": [],
   "source": [
    "sql = f\"select description from film limit {number_data_rows}\"\n",
    "results = execute_sql_results(sql)"
   ]
  },
  {
   "cell_type": "code",
   "execution_count": 11,
   "id": "f4ee6616-3020-4a18-96ec-7f2b94709b6b",
   "metadata": {},
   "outputs": [],
   "source": [
    "encode_text_sql = \"select translate(cast (aidb.encode_text_batch('grit-llm', %s) as text), '\\\"', '')::float[]\""
   ]
  },
  {
   "cell_type": "code",
   "execution_count": 12,
   "id": "bb8a1dfb-87dd-47d2-b7df-24ab9b94d53b",
   "metadata": {},
   "outputs": [
    {
     "name": "stdout",
     "output_type": "stream",
     "text": [
      "Starting batch embedding test using remote vllm model with edb\n",
      "--------------------------------------------------------------\n",
      "Embeddings computed ... 0 1000 \n",
      "Time to compute 1000 embeddings: 15.4936 seconds\n",
      "--------------------------------------------------------------\n"
     ]
    }
   ],
   "source": [
    "test_description = \"Starting batch embedding test using remote vllm model with edb\"\n",
    "print(test_description)\n",
    "print(len(test_description) * \"-\") \n",
    "tic = time.perf_counter()\n",
    "print(\"Embeddings computed ...\", end=\" \")\n",
    "descriptions = list()\n",
    "for index, film in enumerate(results):\n",
    "    descriptions.append(film[0])\n",
    "\n",
    "batch_size = 1000\n",
    "start_offset = 0\n",
    "end_offset = batch_size\n",
    "embeddings = list()\n",
    "while start_offset < number_data_rows:\n",
    "    print(start_offset, end_offset, end=\" \")\n",
    "    embeddings = embeddings + execute_sql_results_params(encode_text_sql, descriptions[start_offset:end_offset])[0][0]\n",
    "    start_offset = end_offset\n",
    "    end_offset = end_offset + batch_size\n",
    "    if end_offset > number_data_rows:\n",
    "        end_offset = number_data_rows\n",
    "\n",
    "assert len(embeddings) == index+1\n",
    "for e in embeddings:\n",
    "    assert(len(e) == 4096)\n",
    "\n",
    "toc = time.perf_counter()\n",
    "print(\"\")\n",
    "print(f\"Time to compute {number_data_rows} embeddings: {toc - tic:0.4f} seconds\")\n",
    "print(len(test_description) * \"-\") "
   ]
  },
  {
   "cell_type": "code",
   "execution_count": null,
   "id": "5a26b6ef-c15b-4c6f-8495-4cf26121ea36",
   "metadata": {},
   "outputs": [],
   "source": []
  },
  {
   "cell_type": "code",
   "execution_count": 13,
   "id": "e7638134-1328-448c-b5bc-135ccb5bb815",
   "metadata": {},
   "outputs": [],
   "source": [
    "close_db()"
   ]
  },
  {
   "cell_type": "code",
   "execution_count": null,
   "id": "d3354dc4-9d64-4eb2-b934-f919f30f4891",
   "metadata": {},
   "outputs": [],
   "source": []
  }
 ],
 "metadata": {
  "kernelspec": {
   "display_name": "Python 3.11",
   "language": "python",
   "name": "python3"
  },
  "language_info": {
   "codemirror_mode": {
    "name": "ipython",
    "version": 3
   },
   "file_extension": ".py",
   "mimetype": "text/x-python",
   "name": "python",
   "nbconvert_exporter": "python",
   "pygments_lexer": "ipython3",
   "version": "3.11.7"
  }
 },
 "nbformat": 4,
 "nbformat_minor": 5
}
