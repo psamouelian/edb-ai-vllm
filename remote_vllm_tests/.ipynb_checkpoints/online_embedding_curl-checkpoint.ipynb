{
 "cells": [
  {
   "cell_type": "code",
   "execution_count": 1,
   "id": "e78f0b5c-9542-4bed-89c8-98bbcff022a0",
   "metadata": {},
   "outputs": [],
   "source": [
    "import os, time"
   ]
  },
  {
   "cell_type": "code",
   "execution_count": 2,
   "id": "dff2b369-acdd-4eaa-b4d7-589542af24a3",
   "metadata": {},
   "outputs": [],
   "source": [
    "%run ../utilities/curl_utilities.ipynb\n",
    "%run ../utilities/postgres_utilities.ipynb"
   ]
  },
  {
   "cell_type": "code",
   "execution_count": 3,
   "id": "2fed6c7f-7f8e-47d8-af7e-d803bf4100d8",
   "metadata": {},
   "outputs": [],
   "source": [
    "embedding_model_endpoint = os.environ.get('embedding_model_endpoint')\n",
    "model_name = 'grit-llm'\n",
    "number_data_rows = 1000"
   ]
  },
  {
   "cell_type": "code",
   "execution_count": 7,
   "id": "ec200683-fb3a-479a-8e71-56277c6dbffc",
   "metadata": {},
   "outputs": [],
   "source": [
    "#Evaluate baseline (direct REST calls to vllm) for online use case"
   ]
  },
  {
   "cell_type": "code",
   "execution_count": 14,
   "id": "ba241a13-a095-4c9c-b7bd-51977d55b92e",
   "metadata": {},
   "outputs": [],
   "source": []
  },
  {
   "cell_type": "code",
   "execution_count": 10,
   "id": "92228227-5c94-4138-a8d0-651035012939",
   "metadata": {},
   "outputs": [],
   "source": [
    "curl_setup(embedding_model_endpoint)\n",
    "connect_db()"
   ]
  },
  {
   "cell_type": "code",
   "execution_count": 11,
   "id": "87554c5f-b14f-4c9c-97a2-f0f887fe6485",
   "metadata": {},
   "outputs": [],
   "source": [
    "#Compute time for 1k embeddings"
   ]
  },
  {
   "cell_type": "code",
   "execution_count": 12,
   "id": "328b8f5d-3170-4dea-8d26-13d3bef2daca",
   "metadata": {},
   "outputs": [],
   "source": [
    "sql = f\"select description from film limit {number_data_rows}\"\n",
    "results = execute_sql_results(sql)"
   ]
  },
  {
   "cell_type": "code",
   "execution_count": 13,
   "id": "6500bc9a-a3eb-4772-9111-c8961682010e",
   "metadata": {},
   "outputs": [
    {
     "name": "stdout",
     "output_type": "stream",
     "text": [
      "Starting online embedding test using curl and default vllm configuration\n",
      "------------------------------------------------------------------------\n",
      "Embeddings computed ... "
     ]
    },
    {
     "ename": "KeyError",
     "evalue": "'data'",
     "output_type": "error",
     "traceback": [
      "\u001b[0;31m---------------------------------------------------------------------------\u001b[0m",
      "\u001b[0;31mKeyError\u001b[0m                                  Traceback (most recent call last)",
      "Cell \u001b[0;32mIn[13], line 8\u001b[0m\n\u001b[1;32m      6\u001b[0m \u001b[38;5;28;01mfor\u001b[39;00m index, film \u001b[38;5;129;01min\u001b[39;00m \u001b[38;5;28menumerate\u001b[39m(results):\n\u001b[1;32m      7\u001b[0m     description \u001b[38;5;241m=\u001b[39m film[\u001b[38;5;241m0\u001b[39m]\n\u001b[0;32m----> 8\u001b[0m     embedding \u001b[38;5;241m=\u001b[39m \u001b[43mcurl_get_embedding\u001b[49m\u001b[43m(\u001b[49m\u001b[43mmodel_name\u001b[49m\u001b[43m,\u001b[49m\u001b[43m \u001b[49m\u001b[43mdescription\u001b[49m\u001b[43m)\u001b[49m[\u001b[38;5;241m0\u001b[39m]\n\u001b[1;32m      9\u001b[0m     \u001b[38;5;28;01massert\u001b[39;00m \u001b[38;5;28mlen\u001b[39m(embedding) \u001b[38;5;241m==\u001b[39m \u001b[38;5;241m4096\u001b[39m\n\u001b[1;32m     10\u001b[0m     \u001b[38;5;28;01mif\u001b[39;00m index \u001b[38;5;241m%\u001b[39m \u001b[38;5;241m100\u001b[39m \u001b[38;5;241m==\u001b[39m \u001b[38;5;241m0\u001b[39m:\n",
      "File \u001b[0;32m/tmp/ipykernel_390/4025138268.py:40\u001b[0m, in \u001b[0;36mcurl_get_embedding\u001b[0;34m(model_name, input, ignore_ssl_verification)\u001b[0m\n\u001b[1;32m     36\u001b[0m embeddings \u001b[38;5;241m=\u001b[39m json\u001b[38;5;241m.\u001b[39mloads(result)\n\u001b[1;32m     38\u001b[0m result \u001b[38;5;241m=\u001b[39m \u001b[38;5;28mlist\u001b[39m()\n\u001b[0;32m---> 40\u001b[0m \u001b[38;5;28;01mfor\u001b[39;00m e \u001b[38;5;129;01min\u001b[39;00m \u001b[43membeddings\u001b[49m\u001b[43m[\u001b[49m\u001b[38;5;124;43m'\u001b[39;49m\u001b[38;5;124;43mdata\u001b[39;49m\u001b[38;5;124;43m'\u001b[39;49m\u001b[43m]\u001b[49m:\n\u001b[1;32m     41\u001b[0m     result\u001b[38;5;241m.\u001b[39mappend(e[\u001b[38;5;124m'\u001b[39m\u001b[38;5;124membedding\u001b[39m\u001b[38;5;124m'\u001b[39m])\n\u001b[1;32m     43\u001b[0m \u001b[38;5;28;01mreturn\u001b[39;00m result\n",
      "\u001b[0;31mKeyError\u001b[0m: 'data'"
     ]
    }
   ],
   "source": [
    "test_description = \"Starting online embedding test using curl and default vllm configuration\"\n",
    "print(test_description)\n",
    "print(len(test_description) * \"-\") \n",
    "tic = time.perf_counter()\n",
    "print(\"Embeddings computed ...\", end=\" \")\n",
    "for index, film in enumerate(results):\n",
    "    description = film[0]\n",
    "    embedding = curl_get_embedding(model_name, description)[0]\n",
    "    assert len(embedding) == 4096\n",
    "    if index % 100 == 0:\n",
    "        print(f\"{index}\", end=\" \")\n",
    "toc = time.perf_counter()\n",
    "print(f\"{index+1}\")\n",
    "print(f\"Time to compute {number_data_rows} embeddings: {toc - tic:0.4f} seconds\")\n",
    "print(len(test_description) * \"-\") \n",
    "curl_close()"
   ]
  },
  {
   "cell_type": "code",
   "execution_count": null,
   "id": "3b32811e-9648-43e9-85ab-66fb42282d84",
   "metadata": {},
   "outputs": [],
   "source": [
    "close_db()"
   ]
  },
  {
   "cell_type": "code",
   "execution_count": null,
   "id": "05b52f7f-c610-454f-8df9-088aa3484746",
   "metadata": {},
   "outputs": [],
   "source": []
  }
 ],
 "metadata": {
  "kernelspec": {
   "display_name": "Python 3.11",
   "language": "python",
   "name": "python3"
  },
  "language_info": {
   "codemirror_mode": {
    "name": "ipython",
    "version": 3
   },
   "file_extension": ".py",
   "mimetype": "text/x-python",
   "name": "python",
   "nbconvert_exporter": "python",
   "pygments_lexer": "ipython3",
   "version": "3.11.7"
  }
 },
 "nbformat": 4,
 "nbformat_minor": 5
}
