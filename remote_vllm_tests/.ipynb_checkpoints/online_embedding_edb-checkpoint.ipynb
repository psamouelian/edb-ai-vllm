{
 "cells": [
  {
   "cell_type": "code",
   "execution_count": 1,
   "id": "e78f0b5c-9542-4bed-89c8-98bbcff022a0",
   "metadata": {},
   "outputs": [],
   "source": [
    "import os, time"
   ]
  },
  {
   "cell_type": "code",
   "execution_count": 2,
   "id": "dff2b369-acdd-4eaa-b4d7-589542af24a3",
   "metadata": {},
   "outputs": [],
   "source": [
    "%run ./postgres_utilities.ipynb"
   ]
  },
  {
   "cell_type": "code",
   "execution_count": null,
   "id": "f5cff612-26c8-4e01-8f81-2fc518223710",
   "metadata": {},
   "outputs": [],
   "source": []
  },
  {
   "cell_type": "code",
   "execution_count": 3,
   "id": "2fed6c7f-7f8e-47d8-af7e-d803bf4100d8",
   "metadata": {},
   "outputs": [],
   "source": [
    "embedding_endpoint =  os.environ.get('embedding_model_endpoint')\n",
    "model_name = 'grit-llm'\n",
    "number_data_rows = 1000"
   ]
  },
  {
   "cell_type": "code",
   "execution_count": 4,
   "id": "e025b29e-d031-4732-8141-bd285c1d4ce8",
   "metadata": {},
   "outputs": [],
   "source": [
    "connect_db()"
   ]
  },
  {
   "cell_type": "code",
   "execution_count": 5,
   "id": "110b2af6-8f1e-495b-bb7a-7bb55037da70",
   "metadata": {},
   "outputs": [],
   "source": [
    "sql = \"\"\"\n",
    "    select aidb.delete_model('grit-llm');\n",
    "    \"\"\""
   ]
  },
  {
   "cell_type": "code",
   "execution_count": 6,
   "id": "c0c25e4d-1ea7-4858-96de-8f73681b0582",
   "metadata": {},
   "outputs": [],
   "source": [
    "execute_sql(sql)"
   ]
  },
  {
   "cell_type": "code",
   "execution_count": null,
   "id": "5759824a-1d6f-452c-be75-dc0de120222f",
   "metadata": {},
   "outputs": [],
   "source": []
  },
  {
   "cell_type": "code",
   "execution_count": 7,
   "id": "b4f9532b-fb1b-4ded-ab1a-9ecb9a7a667d",
   "metadata": {},
   "outputs": [],
   "source": [
    "sql = f\"\"\"\n",
    "    select aidb.create_model(\n",
    "    'grit-llm',\n",
    "    'embeddings',\n",
    "    '{{\"model\":\"grit-llm\", \"url\":\"{embedding_endpoint}\", \n",
    "    \"dimensions\":4096}}'::JSONB,\n",
    "    '{{\"api_key\":\"\"}}'::JSONB);\n",
    "    \"\"\""
   ]
  },
  {
   "cell_type": "code",
   "execution_count": 8,
   "id": "9f330c72-70df-4a05-b267-d2051419a058",
   "metadata": {},
   "outputs": [],
   "source": [
    "execute_sql(sql)"
   ]
  },
  {
   "cell_type": "code",
   "execution_count": 9,
   "id": "87554c5f-b14f-4c9c-97a2-f0f887fe6485",
   "metadata": {},
   "outputs": [],
   "source": [
    "#Compute time for 1k embeddings"
   ]
  },
  {
   "cell_type": "code",
   "execution_count": 10,
   "id": "328b8f5d-3170-4dea-8d26-13d3bef2daca",
   "metadata": {},
   "outputs": [],
   "source": [
    "sql = f\"select description from film limit {number_data_rows}\"\n",
    "results = execute_sql_results(sql)"
   ]
  },
  {
   "cell_type": "code",
   "execution_count": null,
   "id": "81372134-6ecc-441a-a6c6-71eceea01f8a",
   "metadata": {},
   "outputs": [],
   "source": []
  },
  {
   "cell_type": "code",
   "execution_count": 11,
   "id": "d7457021-cac1-44c8-ade6-0a14b94dde19",
   "metadata": {},
   "outputs": [],
   "source": [
    "encode_text_sql = \"select aidb.encode_text('grit-llm', %s)\""
   ]
  },
  {
   "cell_type": "code",
   "execution_count": 12,
   "id": "6500bc9a-a3eb-4772-9111-c8961682010e",
   "metadata": {},
   "outputs": [
    {
     "name": "stdout",
     "output_type": "stream",
     "text": [
      "Starting online embedding test using edb and default vllm configuration\n",
      "-----------------------------------------------------------------------\n",
      "Embeddings computed ... 0 100 200 300 400 500 600 700 800 900 1000\n",
      "Time to compute 1000 embeddings: 61.8637 seconds\n",
      "-----------------------------------------------------------------------\n"
     ]
    }
   ],
   "source": [
    "test_description = \"Starting online embedding test using edb and default vllm configuration\"\n",
    "print(test_description)\n",
    "print(len(test_description) * \"-\") \n",
    "tic = time.perf_counter()\n",
    "print(\"Embeddings computed ...\", end=\" \")\n",
    "for index, film in enumerate(results):\n",
    "    description = film[0]\n",
    "    embedding = execute_sql_results_params(encode_text_sql, description)\n",
    "    assert len(embedding[0][0]) == 4096\n",
    "    if index % 100 == 0:\n",
    "        print(f\"{index}\", end=\" \")\n",
    "toc = time.perf_counter()\n",
    "print(f\"{index+1}\")\n",
    "print(f\"Time to compute {number_data_rows} embeddings: {toc - tic:0.4f} seconds\")\n",
    "print(len(test_description) * \"-\")"
   ]
  },
  {
   "cell_type": "code",
   "execution_count": null,
   "id": "9ac28706-e790-40bb-89dc-883627f0355f",
   "metadata": {},
   "outputs": [],
   "source": []
  },
  {
   "cell_type": "code",
   "execution_count": 13,
   "id": "bb8a1dfb-87dd-47d2-b7df-24ab9b94d53b",
   "metadata": {},
   "outputs": [],
   "source": [
    "close_db()"
   ]
  },
  {
   "cell_type": "code",
   "execution_count": null,
   "id": "5cb9f493-9abb-4280-baf9-1c830a46936c",
   "metadata": {},
   "outputs": [],
   "source": []
  }
 ],
 "metadata": {
  "kernelspec": {
   "display_name": "Python 3.11",
   "language": "python",
   "name": "python3"
  },
  "language_info": {
   "codemirror_mode": {
    "name": "ipython",
    "version": 3
   },
   "file_extension": ".py",
   "mimetype": "text/x-python",
   "name": "python",
   "nbconvert_exporter": "python",
   "pygments_lexer": "ipython3",
   "version": "3.11.7"
  }
 },
 "nbformat": 4,
 "nbformat_minor": 5
}
